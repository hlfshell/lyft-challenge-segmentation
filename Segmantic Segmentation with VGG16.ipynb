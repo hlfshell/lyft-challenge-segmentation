{
 "cells": [
  {
   "cell_type": "markdown",
   "metadata": {},
   "source": [
    "# Segmantic Segmentation with VGG16\n",
    "\n",
    "The initial attempt with using a GAN hit a wall, specifically with figuring out how to do proper layer sizing for the transposed convolution layers for the generator. On top of that, some research I did during my \"off\" time showed that the approach semantic segmentation using either an FCN (Fully Convolutional Network) approach or SegNet would work best.\n",
    "\n",
    "Since SegNet is completely new, whereas transfer learning with VGG16 is something I'm familiar with, I'm going to attempt a VGG16 network here."
   ]
  },
  {
   "cell_type": "code",
   "execution_count": 1,
   "metadata": {},
   "outputs": [
    {
     "name": "stdout",
     "output_type": "stream",
     "text": [
      "Default GPU Device: /device:GPU:0\n",
      "TensorFlow Version: 1.6.0\n"
     ]
    }
   ],
   "source": [
    "import numpy as np\n",
    "import cv2\n",
    "import matplotlib.pyplot as plt\n",
    "from random import randint\n",
    "from glob import glob\n",
    "import os\n",
    "import os.path\n",
    "import scipy\n",
    "\n",
    "%matplotlib inline\n",
    "\n",
    "import tensorflow as tf\n",
    "#Check GPU\n",
    "print('Default GPU Device: {}'.format(tf.test.gpu_device_name()))\n",
    "print('TensorFlow Version: {}'.format(tf.__version__))"
   ]
  },
  {
   "cell_type": "code",
   "execution_count": 2,
   "metadata": {},
   "outputs": [],
   "source": [
    "#useful variables\n",
    "num_classes = 13 # none and 12 options, 0-12\n",
    "image_shape = (160, 576)\n",
    "# image_shape = (576, 160)\n",
    "weights_initializer_stddev = 0.01\n",
    "weights_regularized_l2 = 1e-3"
   ]
  },
  {
   "cell_type": "markdown",
   "metadata": {},
   "source": [
    "## Load VGG16\n",
    "\n",
    "\n",
    "First we're going to load VGG16 with pretrained weights (so it maintains its feature detectors, which can be useful for our smaller dataset)."
   ]
  },
  {
   "cell_type": "code",
   "execution_count": 3,
   "metadata": {},
   "outputs": [
    {
     "name": "stdout",
     "output_type": "stream",
     "text": [
      "Already exists, skipping download\n"
     ]
    }
   ],
   "source": [
    "#Download VGG16 if it is not already\n",
    "from urllib.request import urlretrieve\n",
    "import zipfile\n",
    "\n",
    "if not os.path.exists(\"vgg16.zip\"):\n",
    "    urlretrieve(\n",
    "        'https://s3-us-west-1.amazonaws.com/udacity-selfdrivingcar/vgg.zip',\n",
    "        \"./vgg16.zip\")\n",
    "    print(\"Downloaded VGG16 model weights\")\n",
    "else:\n",
    "    print(\"Already exists, skipping download\")"
   ]
  },
  {
   "cell_type": "code",
   "execution_count": 4,
   "metadata": {},
   "outputs": [
    {
     "name": "stdout",
     "output_type": "stream",
     "text": [
      "Already exists, skipping extraction\n"
     ]
    }
   ],
   "source": [
    "#Extract if needed\n",
    "if not os.path.exists(\"./vgg\"):\n",
    "    unzip = zipfile.ZipFile(\"./vgg16.zip\", \"r\")\n",
    "    unzip.extractall(\"./\")\n",
    "    unzip.close()\n",
    "    print(\"Extracted VGG16 model weights\")\n",
    "else:\n",
    "    print(\"Already exists, skipping extraction\")"
   ]
  },
  {
   "cell_type": "markdown",
   "metadata": {},
   "source": [
    "### Helper Functions"
   ]
  },
  {
   "cell_type": "markdown",
   "metadata": {},
   "source": [
    "First a couple of helper functions. Our output is an array of as any dimensions as we have classes - 13 by default, 3 for the given challenge.\n",
    "\n",
    "The data comes in with all data on the red channel - 0-12 for the given class. I need to be able to return this format as well, so I have to convert from this image format to the multi-dimensional array - and vice versa."
   ]
  },
  {
   "cell_type": "code",
   "execution_count": 5,
   "metadata": {},
   "outputs": [],
   "source": [
    "#Make a map more colorful\n",
    "def convertToColor(value):\n",
    "    colors = [\n",
    "        (255, 255, 255),   #0\n",
    "        (255, 0, 0),      #1\n",
    "        (0, 255, 0),      #2\n",
    "        (0, 0, 255),      #3\n",
    "        (255, 255, 0),    #4\n",
    "        (127, 0, 255),    #5\n",
    "        (51, 255, 51),    #6\n",
    "        (255, 0, 127),    #7\n",
    "        (127, 127, 127),  #8\n",
    "        (0, 0, 0),        #9\n",
    "        (0, 255, 255),  #10\n",
    "        (0, 0, 100),      #11\n",
    "        (100, 0, 0),      #12\n",
    "    ]\n",
    "    return colors[value[0]]\n",
    "\n",
    "def colorizeMap(img):\n",
    "    return [list( map(convertToColor, row) ) for row in img]"
   ]
  },
  {
   "cell_type": "code",
   "execution_count": 81,
   "metadata": {},
   "outputs": [],
   "source": [
    "#We need to be able to convert the image map to a 13 channel ground truth map, and vice versa\n",
    "def pixelToTruth(value):\n",
    "    truths = [\n",
    "        (1, 0, 0, 0, 0, 0, 0, 0, 0, 0, 0, 0, 0),\n",
    "        (0, 1, 0, 0, 0, 0, 0, 0, 0, 0, 0, 0, 0),\n",
    "        (0, 0, 1, 0, 0, 0, 0, 0, 0, 0, 0, 0, 0),\n",
    "        (0, 0, 0, 1, 0, 0, 0, 0, 0, 0, 0, 0, 0),\n",
    "        (0, 0, 0, 0, 1, 0, 0, 0, 0, 0, 0, 0, 0),\n",
    "        (0, 0, 0, 0, 0, 1, 0, 0, 0, 0, 0, 0, 0),\n",
    "        (0, 0, 0, 0, 0, 0, 1, 0, 0, 0, 0, 0, 0),\n",
    "        (0, 0, 0, 0, 0, 0, 0, 1, 0, 0, 0, 0, 0),\n",
    "        (0, 0, 0, 0, 0, 0, 0, 0, 1, 0, 0, 0, 0),\n",
    "        (0, 0, 0, 0, 0, 0, 0, 0, 0, 1, 0, 0, 0),\n",
    "        (0, 0, 0, 0, 0, 0, 0, 0, 0, 0, 1, 0, 0),\n",
    "        (0, 0, 0, 0, 0, 0, 0, 0, 0, 0, 0, 1, 0),\n",
    "        (0, 0, 0, 0, 0, 0, 0, 0, 0, 0, 0, 0, 1)\n",
    "    ]\n",
    "    \n",
    "    return truths[value[0]]\n",
    "\n",
    "def truthToPixel(value):\n",
    "    tmp = value.tolist()\n",
    "    return (tmp.index(max(tmp)), 0, 0)\n",
    "\n",
    "def imageToTruth(img):\n",
    "    return [list(map(pixelToTruth, row)) for row in img]\n",
    "\n",
    "def truthToImage(truth):\n",
    "    return [list(map(truthToPixel, row)) for row in truth]"
   ]
  },
  {
   "cell_type": "markdown",
   "metadata": {},
   "source": [
    "The below creates a batch iterator for us for training"
   ]
  },
  {
   "cell_type": "code",
   "execution_count": 7,
   "metadata": {},
   "outputs": [],
   "source": [
    "# Function to load the image data and the label for it\n",
    "def get_training_data(batch_size):\n",
    "    #Both inputs and ground truth maps have the same name - easy!\n",
    "    image_paths = glob(os.path.join(\"./data/Train/CameraRGB\", \"*.png\"))\n",
    "    label_paths = glob(os.path.join(\"./data/Train/CameraSeg\", \"*.png\"))\n",
    "    \n",
    "    for batch in range(0, len(image_paths), batch_size):\n",
    "        images = []\n",
    "        maps = []\n",
    "    \n",
    "    for batch in range(0, len(image_paths), batch_size):\n",
    "        images = []\n",
    "        maps = []\n",
    "        \n",
    "        for index, image_file in enumerate(image_paths[batch:batch + batch_size]):\n",
    "            map_file = os.path.join(label_paths[index])\n",
    "            \n",
    "            image = scipy.misc.imread(image_file)\n",
    "            image = scipy.misc.imresize(image, image_shape)\n",
    "#             image = image - np.array([123.68, 116.779, 103.939], dtype=np.float32)\n",
    "            map_image = scipy.misc.imread(map_file)\n",
    "            map_image = scipy.misc.imresize(map_image, image_shape)\n",
    "            map_image = imageToTruth(map_image)\n",
    "            \n",
    "            images.append(image)\n",
    "            maps.append(map_image)\n",
    "\n",
    "        yield np.array(images), np.array(maps)\n",
    "            \n",
    "            "
   ]
  },
  {
   "cell_type": "markdown",
   "metadata": {},
   "source": [
    "We're going to use the `model` object to keep track of each layer of our deep net for easy reference and debugging."
   ]
  },
  {
   "cell_type": "code",
   "execution_count": 8,
   "metadata": {
    "scrolled": false
   },
   "outputs": [],
   "source": [
    "#Deep learning model\n",
    "model = {}"
   ]
  },
  {
   "cell_type": "markdown",
   "metadata": {},
   "source": [
    "Generate placeholders"
   ]
  },
  {
   "cell_type": "code",
   "execution_count": 9,
   "metadata": {},
   "outputs": [],
   "source": [
    "def get_placeholders(model):\n",
    "    model['placeholders'] = {}\n",
    "    \n",
    "    #Placeholders\n",
    "    model['placeholders']['label'] = tf.placeholder(tf.int32, (None, image_shape[0], image_shape[1], model['settings']['num_classes']), name='label')\n",
    "    model['placeholders']['learning_rate'] = tf.placeholder(tf.float32, name='learning_rate')"
   ]
  },
  {
   "cell_type": "markdown",
   "metadata": {},
   "source": [
    "Load the VGG and pull out key aspects (keep_prob) andlayers (input, layers 3, 4, and 7)"
   ]
  },
  {
   "cell_type": "code",
   "execution_count": 10,
   "metadata": {},
   "outputs": [],
   "source": [
    "def load_vgg(model):\n",
    "    #Grab layers from pretrained VGG\n",
    "    tf.saved_model.loader.load(sess, [\"vgg16\"], \"./vgg/\")\n",
    "    \n",
    "    model['graph'] = tf.get_default_graph()\n",
    "    \n",
    "    #define key layers for us to work with, so we can take pieces of VGG16\n",
    "    #for our own use\n",
    "    model['input_layer'] = model['graph'].get_tensor_by_name(\"image_input:0\")\n",
    "    model['keep_prob'] = model['graph'].get_tensor_by_name(\"keep_prob:0\") #Dropout settings\n",
    "    \n",
    "    #more layer grabbing\n",
    "    model['layer_3'] = model['graph'].get_tensor_by_name(\"layer3_out:0\")\n",
    "    model['layer_4'] = model['graph'].get_tensor_by_name(\"layer4_out:0\")\n",
    "    model['layer_7'] = model['graph'].get_tensor_by_name(\"layer7_out:0\")"
   ]
  },
  {
   "cell_type": "markdown",
   "metadata": {},
   "source": [
    "Build the FCN off of the VGG"
   ]
  },
  {
   "cell_type": "code",
   "execution_count": 16,
   "metadata": {},
   "outputs": [],
   "source": [
    "def vgg_fcn(model):\n",
    "    # Skip connections for later\n",
    "    model['skip_conv_3'] = tf.layers.conv2d(model['layer_3'], model['settings']['num_classes'], 1, padding='same',\n",
    "            kernel_initializer = tf.random_normal_initializer(stddev=weights_initializer_stddev),\n",
    "            kernel_regularizer= tf.contrib.layers.l2_regularizer(weights_regularized_l2))\n",
    "    \n",
    "    model['skip_conv_4'] = tf.layers.conv2d(model['layer_4'], model['settings']['num_classes'], 1, padding='same',\n",
    "            kernel_initializer = tf.random_normal_initializer(stddev=weights_initializer_stddev),\n",
    "            kernel_regularizer= tf.contrib.layers.l2_regularizer(weights_regularized_l2))\n",
    "    \n",
    "    #Layer 7 isn't skipped, it's passed right to transpose    \n",
    "    model['fully_connected_convs'] = tf.layers.conv2d(model['layer_7'], model['settings']['num_classes'], 1, padding='same',\n",
    "            kernel_initializer = tf.random_normal_initializer(stddev=weights_initializer_stddev),\n",
    "            kernel_regularizer= tf.contrib.layers.l2_regularizer(weights_regularized_l2))\n",
    "    \n",
    "    #From layer 7 we need to transpose up\n",
    "    model['transpose_1'] = tf.layers.conv2d_transpose(model['fully_connected_convs'], model['settings']['num_classes'], 4, 2, padding='same',\n",
    "            kernel_initializer = tf.random_normal_initializer(stddev=weights_initializer_stddev),\n",
    "            kernel_regularizer= tf.contrib.layers.l2_regularizer(weights_regularized_l2))\n",
    "    \n",
    "    # Add the skip layer from layer 4\n",
    "    model['skip_1'] = tf.add(model['transpose_1'], model['skip_conv_4'])\n",
    "    \n",
    "    #Tranpose up from resultant layer\n",
    "    model['transpose_2'] = tf.layers.conv2d_transpose(model['skip_1'], model['settings']['num_classes'], 4, 2, padding='same',\n",
    "            kernel_initializer = tf.random_normal_initializer(stddev=weights_initializer_stddev),\n",
    "            kernel_regularizer= tf.contrib.layers.l2_regularizer(weights_regularized_l2))\n",
    "    \n",
    "    #Create skip layer from layer 3\n",
    "    model['skip_2'] = tf.add(model['skip_conv_3'], model['transpose_2'])\n",
    "    \n",
    "    #Final output layer\n",
    "    model['output_layer'] = tf.layers.conv2d_transpose(model['skip_2'], model['settings']['num_classes'], 16, 8, padding='same',\n",
    "            kernel_initializer = tf.random_normal_initializer(stddev=weights_initializer_stddev),\n",
    "            kernel_regularizer= tf.contrib.layers.l2_regularizer(weights_regularized_l2),\n",
    "            activation=tf.sigmoid)\n",
    "    \n",
    "    return model['output_layer']"
   ]
  },
  {
   "cell_type": "code",
   "execution_count": 12,
   "metadata": {},
   "outputs": [],
   "source": [
    "def vgg_fcn(model):\n",
    "    # Skip connections for later\n",
    "    model['skip_conv_3'] = tf.layers.conv2d(model['layer_3'], model['settings']['num_classes'], 1, padding='same')\n",
    "    \n",
    "    model['skip_conv_4'] = tf.layers.conv2d(model['layer_4'], model['settings']['num_classes'], 1, padding='same')\n",
    "    \n",
    "    #Layer 7 isn't skipped, it's passed right to transpose    \n",
    "    model['fully_connected_convs'] = tf.layers.conv2d(model['layer_7'], model['settings']['num_classes'], 1, padding='same')\n",
    "    \n",
    "    #From layer 7 we need to transpose up\n",
    "    model['transpose_1'] = tf.layers.conv2d_transpose(model['fully_connected_convs'], model['settings']['num_classes'], 4, 2, padding='same')\n",
    "    \n",
    "    # Add the skip layer from layer 4\n",
    "    model['skip_1'] = tf.add(model['transpose_1'], model['skip_conv_4'])\n",
    "    \n",
    "    #Tranpose up from resultant layer\n",
    "    model['transpose_2'] = tf.layers.conv2d_transpose(model['skip_1'], model['settings']['num_classes'], 4, 2, padding='same')\n",
    "    \n",
    "    #Create skip layer from layer 3\n",
    "    model['skip_2'] = tf.add(model['skip_conv_3'], model['transpose_2'])\n",
    "    \n",
    "    #Final output layer\n",
    "    model['output_layer'] = tf.layers.conv2d_transpose(model['skip_2'], model['settings']['num_classes'], 16, 8, padding='same',\n",
    "                                activation=tf.sigmoid, name=\"output_layer\")\n",
    "    \n",
    "    return model['output_layer']"
   ]
  },
  {
   "cell_type": "markdown",
   "metadata": {},
   "source": [
    "Generate logits"
   ]
  },
  {
   "cell_type": "code",
   "execution_count": 13,
   "metadata": {},
   "outputs": [],
   "source": [
    "def get_logits(model):\n",
    "    model['logits'] = {}\n",
    "    \n",
    "    #Create the optimzer\n",
    "    model['logits']['logits'] = tf.reshape(model['output_layer'], (-1, model['settings']['num_classes']))\n",
    "    model['logits']['correct_label'] = tf.reshape(model['placeholders']['label'], (-1, model['settings']['num_classes']))"
   ]
  },
  {
   "cell_type": "markdown",
   "metadata": {},
   "source": [
    "Create loss functions and training operation"
   ]
  },
  {
   "cell_type": "code",
   "execution_count": 14,
   "metadata": {},
   "outputs": [],
   "source": [
    "def get_loss(model):\n",
    "    model['loss'] = {}\n",
    "    \n",
    "    model['loss']['softmax'] = tf.nn.softmax_cross_entropy_with_logits_v2(logits=model['logits']['logits'], labels=model['logits']['correct_label'])\n",
    "    model['loss']['cross_entropy_loss'] = tf.reduce_mean(model['loss']['softmax'])\n",
    "    model['loss']['optimizer'] = tf.train.AdamOptimizer(learning_rate=model['placeholders']['learning_rate'])\n",
    "    model['loss']['train_op'] = model['loss']['optimizer'].minimize(model['loss']['cross_entropy_loss'])"
   ]
  },
  {
   "cell_type": "markdown",
   "metadata": {},
   "source": [
    "Model traning function"
   ]
  },
  {
   "cell_type": "code",
   "execution_count": 15,
   "metadata": {},
   "outputs": [],
   "source": [
    "def train(sess, model, epochs=1, batch_size=10, keep_probability=0.5, learning_rate_alpha=0.001):\n",
    "    \n",
    "    sess.run(tf.global_variables_initializer())\n",
    "    \n",
    "    print(\"Graph has been built - launching training\")\n",
    "    print(\"====== :-) ======\")\n",
    "    print()\n",
    "    \n",
    "    for epoch in range(epochs):\n",
    "        print(\"Launching Epoch {}\".format(epoch))\n",
    "        loss_log = []\n",
    "        batch_count = 0\n",
    "        \n",
    "        #get the images\n",
    "        for image, truth in get_training_data(batch_size):\n",
    "            batch_count += 1\n",
    "            _, loss = sess.run(\n",
    "                    [model['loss']['train_op'], model['loss']['cross_entropy_loss']],\n",
    "                    feed_dict = {\n",
    "                        model['input_layer']: image,\n",
    "                        model['placeholders']['label']: truth,\n",
    "                        model['keep_prob']: keep_probability,\n",
    "                        model['placeholders']['learning_rate']: learning_rate_alpha\n",
    "                    }\n",
    "                )\n",
    "            loss_log.append('{:3f}'.format(loss))\n",
    "            if(batch_count % 10 == 0):\n",
    "                print(\"Batch {} - loss of {}\".format(batch_count, loss))\n",
    "        print(\"Training for epoch finished - \", loss_log[-1])\n",
    "        chkpt_path = \"./chkpts/model_epoch_{}/fcn_model\".format(epoch)\n",
    "        saver.save(sess, chkpt_path)\n",
    "        print(\"Model saved as {}\".format(chkpt_path))\n",
    "        print()\n",
    "    print(\"Training finished\")"
   ]
  },
  {
   "cell_type": "markdown",
   "metadata": {},
   "source": [
    "Combine the above functions for building our net and use them below to run the net and train it.\n",
    "\n",
    "Note that as of this run, we're using 13 classes, whereas our actual network uses 3. This is really just to see if it trains decently well and what our output is like. I'll only run 10 epochs. and see what I can get"
   ]
  },
  {
   "cell_type": "code",
   "execution_count": 20,
   "metadata": {
    "scrolled": true
   },
   "outputs": [
    {
     "name": "stdout",
     "output_type": "stream",
     "text": [
      "INFO:tensorflow:Restoring parameters from b'./vgg/variables/variables'\n",
      "Graph has been built - launching training\n",
      "====== :-) ======\n",
      "\n",
      "Launching Epoch 0\n"
     ]
    },
    {
     "name": "stderr",
     "output_type": "stream",
     "text": [
      "/home/keith/anaconda3/envs/dlnd/lib/python3.6/site-packages/ipykernel_launcher.py:18: DeprecationWarning: `imread` is deprecated!\n",
      "`imread` is deprecated in SciPy 1.0.0, and will be removed in 1.2.0.\n",
      "Use ``imageio.imread`` instead.\n",
      "/home/keith/anaconda3/envs/dlnd/lib/python3.6/site-packages/ipykernel_launcher.py:19: DeprecationWarning: `imresize` is deprecated!\n",
      "`imresize` is deprecated in SciPy 1.0.0, and will be removed in 1.2.0.\n",
      "Use ``skimage.transform.resize`` instead.\n",
      "/home/keith/anaconda3/envs/dlnd/lib/python3.6/site-packages/ipykernel_launcher.py:21: DeprecationWarning: `imread` is deprecated!\n",
      "`imread` is deprecated in SciPy 1.0.0, and will be removed in 1.2.0.\n",
      "Use ``imageio.imread`` instead.\n",
      "/home/keith/anaconda3/envs/dlnd/lib/python3.6/site-packages/ipykernel_launcher.py:22: DeprecationWarning: `imresize` is deprecated!\n",
      "`imresize` is deprecated in SciPy 1.0.0, and will be removed in 1.2.0.\n",
      "Use ``skimage.transform.resize`` instead.\n"
     ]
    },
    {
     "name": "stdout",
     "output_type": "stream",
     "text": [
      "Batch 10 - loss of 2.4074511528015137\n",
      "Batch 20 - loss of 2.2703957557678223\n",
      "Batch 30 - loss of 2.2055447101593018\n",
      "Batch 40 - loss of 2.168469190597534\n",
      "Batch 50 - loss of 2.139244794845581\n",
      "Batch 60 - loss of 2.121276378631592\n",
      "Batch 70 - loss of 2.106870412826538\n",
      "Batch 80 - loss of 2.0935959815979004\n",
      "Batch 90 - loss of 2.0826127529144287\n",
      "Batch 100 - loss of 2.0739877223968506\n",
      "Training for epoch finished -  2.073988\n",
      "Model saved as ./chkpts/model_epoch_0/fcn_model\n",
      "\n",
      "Launching Epoch 1\n",
      "Batch 10 - loss of 2.067110061645508\n",
      "Batch 20 - loss of 2.0604491233825684\n",
      "Batch 30 - loss of 2.052419662475586\n",
      "Batch 40 - loss of 2.047424793243408\n",
      "Batch 50 - loss of 2.0387086868286133\n",
      "Batch 60 - loss of 2.03397274017334\n",
      "Batch 70 - loss of 2.028926372528076\n",
      "Batch 80 - loss of 2.0235238075256348\n",
      "Batch 90 - loss of 2.019969940185547\n",
      "Batch 100 - loss of 2.017677068710327\n",
      "Training for epoch finished -  2.017677\n",
      "Model saved as ./chkpts/model_epoch_1/fcn_model\n",
      "\n",
      "Launching Epoch 2\n",
      "Batch 10 - loss of 2.0141074657440186\n",
      "Batch 20 - loss of 2.011218786239624\n",
      "Batch 30 - loss of 2.0068039894104004\n",
      "Batch 40 - loss of 2.0031638145446777\n",
      "Batch 50 - loss of 1.9974682331085205\n",
      "Batch 60 - loss of 1.9966933727264404\n",
      "Batch 70 - loss of 1.9924479722976685\n",
      "Batch 80 - loss of 1.9883922338485718\n",
      "Batch 90 - loss of 1.9853622913360596\n",
      "Batch 100 - loss of 1.9833365678787231\n",
      "Training for epoch finished -  1.983337\n",
      "Model saved as ./chkpts/model_epoch_2/fcn_model\n",
      "\n",
      "Launching Epoch 3\n",
      "Batch 10 - loss of 1.9806599617004395\n",
      "Batch 20 - loss of 1.978486180305481\n",
      "Batch 30 - loss of 1.9758212566375732\n",
      "Batch 40 - loss of 1.9738110303878784\n",
      "Batch 50 - loss of 1.9707227945327759\n",
      "Batch 60 - loss of 1.9708807468414307\n",
      "Batch 70 - loss of 1.9682296514511108\n",
      "Batch 80 - loss of 1.965147852897644\n",
      "Batch 90 - loss of 1.9623072147369385\n",
      "Batch 100 - loss of 1.9607758522033691\n",
      "Training for epoch finished -  1.960776\n",
      "Model saved as ./chkpts/model_epoch_3/fcn_model\n",
      "\n",
      "Launching Epoch 4\n",
      "Batch 10 - loss of 1.9592194557189941\n",
      "Batch 20 - loss of 1.9580330848693848\n",
      "Batch 30 - loss of 1.9571901559829712\n",
      "Batch 40 - loss of 1.9555370807647705\n",
      "Batch 50 - loss of 1.954420566558838\n",
      "Batch 60 - loss of 1.9546115398406982\n",
      "Batch 70 - loss of 1.9505926370620728\n",
      "Batch 80 - loss of 1.946476936340332\n",
      "Batch 90 - loss of 1.9446302652359009\n",
      "Batch 100 - loss of 1.94321870803833\n",
      "Training for epoch finished -  1.943219\n",
      "Model saved as ./chkpts/model_epoch_4/fcn_model\n",
      "\n",
      "Launching Epoch 5\n",
      "Batch 10 - loss of 1.9431309700012207\n",
      "Batch 20 - loss of 1.9419888257980347\n",
      "Batch 30 - loss of 1.9401780366897583\n",
      "Batch 40 - loss of 1.9356613159179688\n",
      "Batch 50 - loss of 1.9338483810424805\n",
      "Batch 60 - loss of 1.9306390285491943\n",
      "Batch 70 - loss of 1.9282857179641724\n",
      "Batch 80 - loss of 1.9272470474243164\n",
      "Batch 90 - loss of 1.9266929626464844\n",
      "Batch 100 - loss of 1.9242503643035889\n",
      "Training for epoch finished -  1.924250\n",
      "Model saved as ./chkpts/model_epoch_5/fcn_model\n",
      "\n",
      "Launching Epoch 6\n",
      "Batch 10 - loss of 1.9246997833251953\n",
      "Batch 20 - loss of 1.9248685836791992\n",
      "Batch 30 - loss of 1.9226477146148682\n",
      "Batch 40 - loss of 1.920825719833374\n",
      "Batch 50 - loss of 1.9206451177597046\n",
      "Batch 60 - loss of 1.9201745986938477\n",
      "Batch 70 - loss of 1.919258713722229\n",
      "Batch 80 - loss of 1.9190616607666016\n",
      "Batch 90 - loss of 1.9183754920959473\n",
      "Batch 100 - loss of 1.917109727859497\n",
      "Training for epoch finished -  1.917110\n",
      "Model saved as ./chkpts/model_epoch_6/fcn_model\n",
      "\n",
      "Launching Epoch 7\n",
      "Batch 10 - loss of 1.9179173707962036\n",
      "Batch 20 - loss of 1.9185680150985718\n",
      "Batch 30 - loss of 1.9182904958724976\n",
      "Batch 40 - loss of 1.9171910285949707\n",
      "Batch 50 - loss of 1.915948510169983\n",
      "Batch 60 - loss of 1.9154037237167358\n",
      "Batch 70 - loss of 1.9154222011566162\n",
      "Batch 80 - loss of 1.91441810131073\n",
      "Batch 90 - loss of 1.9132357835769653\n",
      "Batch 100 - loss of 1.9143614768981934\n",
      "Training for epoch finished -  1.914361\n",
      "Model saved as ./chkpts/model_epoch_7/fcn_model\n",
      "\n",
      "Launching Epoch 8\n",
      "Batch 10 - loss of 1.9151151180267334\n",
      "Batch 20 - loss of 1.9154329299926758\n",
      "Batch 30 - loss of 1.9138938188552856\n",
      "Batch 40 - loss of 1.9134929180145264\n",
      "Batch 50 - loss of 1.9130690097808838\n",
      "Batch 60 - loss of 1.913115382194519\n",
      "Batch 70 - loss of 1.912630319595337\n",
      "Batch 80 - loss of 1.9102674722671509\n",
      "Batch 90 - loss of 1.9081449508666992\n",
      "Batch 100 - loss of 1.9087187051773071\n",
      "Training for epoch finished -  1.908719\n",
      "Model saved as ./chkpts/model_epoch_8/fcn_model\n",
      "\n",
      "Launching Epoch 9\n",
      "Batch 10 - loss of 1.909911036491394\n",
      "Batch 20 - loss of 1.9098972082138062\n",
      "Batch 30 - loss of 1.9088163375854492\n",
      "Batch 40 - loss of 1.9085443019866943\n",
      "Batch 50 - loss of 1.9090057611465454\n",
      "Batch 60 - loss of 1.9088472127914429\n",
      "Batch 70 - loss of 1.9078227281570435\n",
      "Batch 80 - loss of 1.9087764024734497\n",
      "Batch 90 - loss of 1.9068784713745117\n",
      "Batch 100 - loss of 1.907199740409851\n",
      "Training for epoch finished -  1.907200\n",
      "Model saved as ./chkpts/model_epoch_9/fcn_model\n",
      "\n",
      "Training finished\n"
     ]
    }
   ],
   "source": [
    "saver = None\n",
    "\n",
    "with tf.Session() as sess:\n",
    "    \n",
    "    model = {}\n",
    "    model['settings'] = { \"num_classes\": 13 }\n",
    "    get_placeholders(model)\n",
    "    load_vgg(model)\n",
    "    vgg_fcn(model)\n",
    "    get_logits(model)\n",
    "    get_loss(model)\n",
    "    \n",
    "    saver = tf.train.Saver()\n",
    " \n",
    "    train(sess, model, 10, 10, 0.75, 0.0001)\n",
    "  "
   ]
  },
  {
   "cell_type": "markdown",
   "metadata": {},
   "source": [
    "After training above, we don't have great results, but let's see what the network is doing.\n",
    "\n",
    "I didn't expect great results - given the very tiny size of the dataset and the number of classes we have to define, I'd expect poor results. This is mostly to ensure we don't have any oddities in training and the network architecture *can* learn, and that our output looks even somewhat \"correct\"."
   ]
  },
  {
   "cell_type": "code",
   "execution_count": 95,
   "metadata": {},
   "outputs": [],
   "source": [
    "def execute_on_image(sess, model):\n",
    "\n",
    "    chosen_image = \"165\"\n",
    "    image_file = \"./data/Train/CameraRGB/{}.png\".format(chosen_image)\n",
    "    truth_file = \"./data/Train/CameraSeg/{}.png\".format(chosen_image)\n",
    "    \n",
    "    image = scipy.misc.imread(image_file)\n",
    "    image = scipy.misc.imresize(image, image_shape)\n",
    "    plt.figure()\n",
    "    plt.imshow(image)\n",
    "    \n",
    "#     image = image - np.array([123.68, 116.779, 103.939], dtype=np.float32)\n",
    "    \n",
    "    truth = scipy.misc.imread(truth_file)\n",
    "    truth = scipy.misc.imresize(truth, image_shape)\n",
    "    plt.figure()\n",
    "    plt.imshow(colorizeMap(truth))\n",
    "    truth = imageToTruth(truth)\n",
    "    \n",
    "    output = sess.run(model[\"output_layer\"], feed_dict={\n",
    "            model[\"input_layer\"]: [image],\n",
    "            model['placeholders']['label'] : [truth],\n",
    "            \"keep_prob:0\": 1.0,\n",
    "            model[\"placeholders\"][\"learning_rate\"] : 0.01\n",
    "        })\n",
    "    output = output[0]\n",
    "    \n",
    "    plt.figure()\n",
    "    outputImage = truthToImage(output)\n",
    "    colorizedOutput = colorizeMap(outputImage)\n",
    "    plt.imshow(colorizedOutput)\n",
    "    \n",
    "    return output"
   ]
  },
  {
   "cell_type": "code",
   "execution_count": 96,
   "metadata": {},
   "outputs": [],
   "source": [
    "saver = None"
   ]
  },
  {
   "cell_type": "code",
   "execution_count": 97,
   "metadata": {
    "scrolled": true
   },
   "outputs": [
    {
     "name": "stdout",
     "output_type": "stream",
     "text": [
      "INFO:tensorflow:Restoring parameters from b'./vgg/variables/variables'\n",
      "INFO:tensorflow:Restoring parameters from ./chkpts/model_epoch_9/fcn_model\n"
     ]
    },
    {
     "name": "stderr",
     "output_type": "stream",
     "text": [
      "/home/keith/anaconda3/envs/dlnd/lib/python3.6/site-packages/ipykernel_launcher.py:7: DeprecationWarning: `imread` is deprecated!\n",
      "`imread` is deprecated in SciPy 1.0.0, and will be removed in 1.2.0.\n",
      "Use ``imageio.imread`` instead.\n",
      "  import sys\n",
      "/home/keith/anaconda3/envs/dlnd/lib/python3.6/site-packages/ipykernel_launcher.py:8: DeprecationWarning: `imresize` is deprecated!\n",
      "`imresize` is deprecated in SciPy 1.0.0, and will be removed in 1.2.0.\n",
      "Use ``skimage.transform.resize`` instead.\n",
      "  \n",
      "/home/keith/anaconda3/envs/dlnd/lib/python3.6/site-packages/ipykernel_launcher.py:14: DeprecationWarning: `imread` is deprecated!\n",
      "`imread` is deprecated in SciPy 1.0.0, and will be removed in 1.2.0.\n",
      "Use ``imageio.imread`` instead.\n",
      "  \n",
      "/home/keith/anaconda3/envs/dlnd/lib/python3.6/site-packages/ipykernel_launcher.py:15: DeprecationWarning: `imresize` is deprecated!\n",
      "`imresize` is deprecated in SciPy 1.0.0, and will be removed in 1.2.0.\n",
      "Use ``skimage.transform.resize`` instead.\n",
      "  from ipykernel import kernelapp as app\n"
     ]
    },
    {
     "ename": "ZeroDivisionError",
     "evalue": "division by zero",
     "output_type": "error",
     "traceback": [
      "\u001b[0;31m---------------------------------------------------------------------------\u001b[0m",
      "\u001b[0;31mZeroDivisionError\u001b[0m                         Traceback (most recent call last)",
      "\u001b[0;32m<ipython-input-97-873a58bb79b7>\u001b[0m in \u001b[0;36m<module>\u001b[0;34m()\u001b[0m\n\u001b[1;32m     13\u001b[0m     \u001b[0msaver\u001b[0m\u001b[0;34m.\u001b[0m\u001b[0mrestore\u001b[0m\u001b[0;34m(\u001b[0m\u001b[0msess\u001b[0m\u001b[0;34m,\u001b[0m \u001b[0;34m'./chkpts/model_epoch_9/fcn_model'\u001b[0m\u001b[0;34m)\u001b[0m\u001b[0;34m\u001b[0m\u001b[0m\n\u001b[1;32m     14\u001b[0m \u001b[0;34m\u001b[0m\u001b[0m\n\u001b[0;32m---> 15\u001b[0;31m     \u001b[0mresults\u001b[0m \u001b[0;34m=\u001b[0m \u001b[0mexecute_on_image\u001b[0m\u001b[0;34m(\u001b[0m\u001b[0msess\u001b[0m\u001b[0;34m,\u001b[0m \u001b[0mmodel\u001b[0m\u001b[0;34m)\u001b[0m\u001b[0;34m\u001b[0m\u001b[0m\n\u001b[0m",
      "\u001b[0;32m<ipython-input-95-9b25f18bc7db>\u001b[0m in \u001b[0;36mexecute_on_image\u001b[0;34m(sess, model)\u001b[0m\n\u001b[1;32m     21\u001b[0m             \u001b[0mmodel\u001b[0m\u001b[0;34m[\u001b[0m\u001b[0;34m\"input_layer\"\u001b[0m\u001b[0;34m]\u001b[0m\u001b[0;34m:\u001b[0m \u001b[0;34m[\u001b[0m\u001b[0mimage\u001b[0m\u001b[0;34m]\u001b[0m\u001b[0;34m,\u001b[0m\u001b[0;34m\u001b[0m\u001b[0m\n\u001b[1;32m     22\u001b[0m             \u001b[0mmodel\u001b[0m\u001b[0;34m[\u001b[0m\u001b[0;34m'placeholders'\u001b[0m\u001b[0;34m]\u001b[0m\u001b[0;34m[\u001b[0m\u001b[0;34m'label'\u001b[0m\u001b[0;34m]\u001b[0m \u001b[0;34m:\u001b[0m \u001b[0;34m[\u001b[0m\u001b[0mtruth\u001b[0m\u001b[0;34m]\u001b[0m\u001b[0;34m,\u001b[0m\u001b[0;34m\u001b[0m\u001b[0m\n\u001b[0;32m---> 23\u001b[0;31m             \u001b[0;34m\"keep_prob:0\"\u001b[0m\u001b[0;34m:\u001b[0m \u001b[0;36m1\u001b[0m\u001b[0;34m/\u001b[0m\u001b[0;36m0\u001b[0m\u001b[0;34m,\u001b[0m\u001b[0;34m\u001b[0m\u001b[0m\n\u001b[0m\u001b[1;32m     24\u001b[0m             \u001b[0mmodel\u001b[0m\u001b[0;34m[\u001b[0m\u001b[0;34m\"placeholders\"\u001b[0m\u001b[0;34m]\u001b[0m\u001b[0;34m[\u001b[0m\u001b[0;34m\"learning_rate\"\u001b[0m\u001b[0;34m]\u001b[0m \u001b[0;34m:\u001b[0m \u001b[0;36m0.01\u001b[0m\u001b[0;34m\u001b[0m\u001b[0m\n\u001b[1;32m     25\u001b[0m         })\n",
      "\u001b[0;31mZeroDivisionError\u001b[0m: division by zero"
     ]
    },
    {
     "data": {
      "image/png": "[encoded data removed]",
      "text/plain": [
       "<Figure size 432x288 with 1 Axes>"
      ]
     },
     "metadata": {},
     "output_type": "display_data"
    },
    {
     "data": {
      "image/png": "[encoded data removed]",
      "text/plain": [
       "<Figure size 432x288 with 1 Axes>"
      ]
     },
     "metadata": {},
     "output_type": "display_data"
    }
   ],
   "source": [
    "tf.reset_default_graph()\n",
    "with tf.Session() as sess:\n",
    "    model = {}\n",
    "    model['settings'] = { \"num_classes\": 13 }\n",
    "    get_placeholders(model)\n",
    "    load_vgg(model)\n",
    "    vgg_fcn(model)\n",
    "    get_logits(model)\n",
    "    get_loss(model)\n",
    "    \n",
    "    saver = tf.train.Saver()\n",
    "#     saver = tf.train.import_meta_graph(\"./chkpts/model_epoch_9/checkpoint\")\n",
    "    saver.restore(sess, './chkpts/model_epoch_9/fcn_model')\n",
    "    \n",
    "    results = execute_on_image(sess, model)"
   ]
  },
  {
   "cell_type": "markdown",
   "metadata": {},
   "source": [
    "Not too bad for such a high loss - it mostly gets the car hood and the road - definitely didn't get the buildings or the fence posts."
   ]
  },
  {
   "cell_type": "markdown",
   "metadata": {},
   "source": [
    "## Moving over to just 3 classes\n",
    "\n",
    "With the dataset at the size it is, this network would never reach the level of clarity needed for all 13 classes. I'm going to now change some of the helper functions to convert data into a 3 class system - `roads`, `vehicles`, and `none`. This should make the network quite a bit better as it has less to learn."
   ]
  },
  {
   "cell_type": "code",
   "execution_count": null,
   "metadata": {},
   "outputs": [],
   "source": []
  }
 ],
 "metadata": {
  "kernelspec": {
   "display_name": "Python 3",
   "language": "python",
   "name": "python3"
  },
  "language_info": {
   "codemirror_mode": {
    "name": "ipython",
    "version": 3
   },
   "file_extension": ".py",
   "mimetype": "text/x-python",
   "name": "python",
   "nbconvert_exporter": "python",
   "pygments_lexer": "ipython3",
   "version": "3.6.4"
  }
 },
 "nbformat": 4,
 "nbformat_minor": 2
}
