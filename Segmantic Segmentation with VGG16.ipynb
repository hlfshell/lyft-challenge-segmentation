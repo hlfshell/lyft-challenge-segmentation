{
 "cells": [
  {
   "cell_type": "markdown",
   "metadata": {},
   "source": [
    "# Segmantic Segmentation with VGG16\n",
    "\n",
    "The initial attempt with using a GAN hit a wall, specifically with figuring out how to do proper layer sizing for the transposed convolution layers for the generator. On top of that, some research I did during my \"off\" time showed that the approach semantic segmentation using either an FCN (Fully Convolutional Network) approach or SegNet would work best.\n",
    "\n",
    "Since SegNet is completely new, whereas transfer learning with VGG16 is something I'm familiar with, I'm going to attempt a VGG16 network here."
   ]
  },
  {
   "cell_type": "code",
   "execution_count": 2,
   "metadata": {},
   "outputs": [
    {
     "name": "stdout",
     "output_type": "stream",
     "text": [
      "Default GPU Device: /device:GPU:0\n",
      "TensorFlow Version: 1.6.0\n"
     ]
    }
   ],
   "source": [
    "import numpy as np\n",
    "import cv2\n",
    "import matplotlib.pyplot as plt\n",
    "from random import randint\n",
    "from glob import glob\n",
    "import os\n",
    "import os.path\n",
    "import scipy\n",
    "\n",
    "%matplotlib inline\n",
    "\n",
    "import tensorflow as tf\n",
    "#Check GPU\n",
    "print('Default GPU Device: {}'.format(tf.test.gpu_device_name()))\n",
    "print('TensorFlow Version: {}'.format(tf.__version__))"
   ]
  },
  {
   "cell_type": "code",
   "execution_count": 3,
   "metadata": {},
   "outputs": [],
   "source": [
    "#useful variables\n",
    "num_classes = 13 # none and 12 options, 0-12\n",
    "image_shape = (160, 576)\n",
    "# image_shape = (576, 160)\n",
    "weights_initializer_stddev = 0.01\n",
    "weights_regularized_l2 = 1e-3"
   ]
  },
  {
   "cell_type": "markdown",
   "metadata": {},
   "source": [
    "## Load VGG16\n",
    "\n",
    "\n",
    "First we're going to load VGG16 with pretrained weights (so it maintains its feature detectors, which can be useful for our smaller dataset)."
   ]
  },
  {
   "cell_type": "code",
   "execution_count": 4,
   "metadata": {},
   "outputs": [
    {
     "name": "stdout",
     "output_type": "stream",
     "text": [
      "Already exists, skipping download\n"
     ]
    }
   ],
   "source": [
    "#Download VGG16 if it is not already\n",
    "from urllib.request import urlretrieve\n",
    "import zipfile\n",
    "\n",
    "if not os.path.exists(\"vgg16.zip\"):\n",
    "    urlretrieve(\n",
    "        'https://s3-us-west-1.amazonaws.com/udacity-selfdrivingcar/vgg.zip',\n",
    "        \"./vgg16.zip\")\n",
    "    print(\"Downloaded VGG16 model weights\")\n",
    "else:\n",
    "    print(\"Already exists, skipping download\")"
   ]
  },
  {
   "cell_type": "code",
   "execution_count": 5,
   "metadata": {},
   "outputs": [
    {
     "name": "stdout",
     "output_type": "stream",
     "text": [
      "Already exists, skipping extraction\n"
     ]
    }
   ],
   "source": [
    "#Extract if needed\n",
    "if not os.path.exists(\"./vgg\"):\n",
    "    unzip = zipfile.ZipFile(\"./vgg16.zip\", \"r\")\n",
    "    unzip.extractall(\"./\")\n",
    "    unzip.close()\n",
    "    print(\"Extracted VGG16 model weights\")\n",
    "else:\n",
    "    print(\"Already exists, skipping extraction\")"
   ]
  },
  {
   "cell_type": "markdown",
   "metadata": {},
   "source": [
    "### Helper Functions"
   ]
  },
  {
   "cell_type": "markdown",
   "metadata": {},
   "source": [
    "First a couple of helper functions. Our output is an array of as any dimensions as we have classes - 13 by default, 3 for the given challenge.\n",
    "\n",
    "The data comes in with all data on the red channel - 0-12 for the given class. I need to be able to return this format as well, so I have to convert from this image format to the multi-dimensional array - and vice versa."
   ]
  },
  {
   "cell_type": "code",
   "execution_count": 6,
   "metadata": {},
   "outputs": [],
   "source": [
    "#Make a map more colorful\n",
    "def convertToColor(value):\n",
    "    colors = [\n",
    "        (255, 255, 255),   #0\n",
    "        (255, 0, 0),      #1\n",
    "        (0, 255, 0),      #2\n",
    "        (0, 0, 255),      #3\n",
    "        (255, 255, 0),    #4\n",
    "        (127, 0, 255),    #5\n",
    "        (51, 255, 51),    #6\n",
    "        (255, 0, 127),    #7\n",
    "        (127, 127, 127),  #8\n",
    "        (0, 0, 0),        #9\n",
    "        (0, 255, 255),  #10\n",
    "        (0, 0, 100),      #11\n",
    "        (100, 0, 0),      #12\n",
    "    ]\n",
    "    return colors[value[0]]\n",
    "\n",
    "def colorizeMap(img):\n",
    "    return [list( map(convertToColor, row) ) for row in img]"
   ]
  },
  {
   "cell_type": "code",
   "execution_count": 7,
   "metadata": {},
   "outputs": [],
   "source": [
    "#We need to be able to convert the image map to a 13 channel ground truth map, and vice versa\n",
    "def pixelToTruth(value):\n",
    "    truths = [\n",
    "        (1, 0, 0, 0, 0, 0, 0, 0, 0, 0, 0, 0, 0),\n",
    "        (0, 1, 0, 0, 0, 0, 0, 0, 0, 0, 0, 0, 0),\n",
    "        (0, 0, 1, 0, 0, 0, 0, 0, 0, 0, 0, 0, 0),\n",
    "        (0, 0, 0, 1, 0, 0, 0, 0, 0, 0, 0, 0, 0),\n",
    "        (0, 0, 0, 0, 1, 0, 0, 0, 0, 0, 0, 0, 0),\n",
    "        (0, 0, 0, 0, 0, 1, 0, 0, 0, 0, 0, 0, 0),\n",
    "        (0, 0, 0, 0, 0, 0, 1, 0, 0, 0, 0, 0, 0),\n",
    "        (0, 0, 0, 0, 0, 0, 0, 1, 0, 0, 0, 0, 0),\n",
    "        (0, 0, 0, 0, 0, 0, 0, 0, 1, 0, 0, 0, 0),\n",
    "        (0, 0, 0, 0, 0, 0, 0, 0, 0, 1, 0, 0, 0),\n",
    "        (0, 0, 0, 0, 0, 0, 0, 0, 0, 0, 1, 0, 0),\n",
    "        (0, 0, 0, 0, 0, 0, 0, 0, 0, 0, 0, 1, 0),\n",
    "        (0, 0, 0, 0, 0, 0, 0, 0, 0, 0, 0, 0, 1)\n",
    "    ]\n",
    "    \n",
    "    return truths[value[0]]\n",
    "\n",
    "def truthToPixel(value):\n",
    "    return (value.tolist().index(1), 0, 0)\n",
    "\n",
    "def imageToTruth(img):\n",
    "    return [list(map(pixelToTruth, row)) for row in img]\n",
    "\n",
    "def truthToImage(truth):\n",
    "    return [list(map(truthToPixel, row)) for row in truth]"
   ]
  },
  {
   "cell_type": "markdown",
   "metadata": {},
   "source": [
    "The below creates a batch iterator for us for training"
   ]
  },
  {
   "cell_type": "code",
   "execution_count": 8,
   "metadata": {},
   "outputs": [],
   "source": [
    "# Function to load the image data and the label for it\n",
    "def get_training_data(batch_size):\n",
    "    #Both inputs and ground truth maps have the same name - easy!\n",
    "    image_paths = glob(os.path.join(\"./data/Train/CameraRGB\", \"*.png\"))\n",
    "    label_paths = glob(os.path.join(\"./data/Train/CameraSeg\", \"*.png\"))\n",
    "    \n",
    "    for batch in range(0, len(image_paths), batch_size):\n",
    "        images = []\n",
    "        maps = []\n",
    "    \n",
    "    for batch in range(0, len(image_paths), batch_size):\n",
    "        images = []\n",
    "        maps = []\n",
    "        \n",
    "        for index, image_file in enumerate(image_paths[batch:batch + batch_size]):\n",
    "            map_file = os.path.join(label_paths[index])\n",
    "            \n",
    "            image = scipy.misc.imread(image_file)\n",
    "            image = scipy.misc.imresize(image, image_shape)\n",
    "#             image = image - np.array([123.68, 116.779, 103.939], dtype=np.float32)\n",
    "            map_image = scipy.misc.imread(map_file)\n",
    "            map_image = scipy.misc.imresize(map_image, image_shape)\n",
    "            map_image = imageToTruth(map_image)\n",
    "            \n",
    "            images.append(image)\n",
    "            maps.append(map_image)\n",
    "\n",
    "        yield np.array(images), np.array(maps)\n",
    "            \n",
    "            "
   ]
  },
  {
   "cell_type": "markdown",
   "metadata": {},
   "source": [
    "We're going to use the `model` object to keep track of each layer of our deep net for easy reference and debugging."
   ]
  },
  {
   "cell_type": "code",
   "execution_count": 9,
   "metadata": {
    "scrolled": false
   },
   "outputs": [],
   "source": [
    "#Deep learning model\n",
    "model = {}"
   ]
  },
  {
   "cell_type": "markdown",
   "metadata": {},
   "source": [
    "Generate placeholders"
   ]
  },
  {
   "cell_type": "code",
   "execution_count": 24,
   "metadata": {},
   "outputs": [],
   "source": [
    "def get_placeholders(model):\n",
    "    model['placeholders'] = {}\n",
    "    \n",
    "    #Placeholders\n",
    "    model['placeholders']['label'] = tf.placeholder(tf.int32, (None, image_shape[0], image_shape[1], model['settings']['num_classes']), name='label')\n",
    "    model['placeholders']['learning_rate'] = tf.placeholder(tf.float32, name='learning_rate')"
   ]
  },
  {
   "cell_type": "markdown",
   "metadata": {},
   "source": [
    "Load the VGG and pull out key aspects (keep_prob) andlayers (input, layers 3, 4, and 7)"
   ]
  },
  {
   "cell_type": "code",
   "execution_count": 11,
   "metadata": {},
   "outputs": [],
   "source": [
    "def load_vgg(model):\n",
    "    #Grab layers from pretrained VGG\n",
    "    tf.saved_model.loader.load(sess, [\"vgg16\"], \"./vgg/\")\n",
    "    \n",
    "    model['graph'] = tf.get_default_graph()\n",
    "    \n",
    "    #define key layers for us to work with, so we can take pieces of VGG16\n",
    "    #for our own use\n",
    "    model['input_layer'] = model['graph'].get_tensor_by_name(\"image_input:0\")\n",
    "    model['keep_prob'] = model['graph'].get_tensor_by_name(\"keep_prob:0\") #Dropout settings\n",
    "    \n",
    "    #more layer grabbing\n",
    "    model['layer_3'] = model['graph'].get_tensor_by_name(\"layer3_out:0\")\n",
    "    model['layer_4'] = model['graph'].get_tensor_by_name(\"layer4_out:0\")\n",
    "    model['layer_7'] = model['graph'].get_tensor_by_name(\"layer7_out:0\")"
   ]
  },
  {
   "cell_type": "markdown",
   "metadata": {},
   "source": [
    "Build the FCN off of the VGG"
   ]
  },
  {
   "cell_type": "code",
   "execution_count": 22,
   "metadata": {},
   "outputs": [],
   "source": [
    "def vgg_fcn(model):\n",
    "    # Skip connections for later\n",
    "    model['skip_conv_3'] = tf.layers.conv2d(model['layer_3'], model['settings']['num_classes'], 1, padding='same',\n",
    "            kernel_initializer = tf.random_normal_initializer(stddev=weights_initializer_stddev),\n",
    "            kernel_regularizer= tf.contrib.layers.l2_regularizer(weights_regularized_l2))\n",
    "    \n",
    "    model['skip_conv_4'] = tf.layers.conv2d(model['layer_4'], model['settings']['num_classes'], 1, padding='same',\n",
    "            kernel_initializer = tf.random_normal_initializer(stddev=weights_initializer_stddev),\n",
    "            kernel_regularizer= tf.contrib.layers.l2_regularizer(weights_regularized_l2))\n",
    "    \n",
    "    #Layer 7 isn't skipped, it's passed right to transpose    \n",
    "    model['fully_connected_convs'] = tf.layers.conv2d(model['layer_7'], model['settings']['num_classes'], 1, padding='same',\n",
    "            kernel_initializer = tf.random_normal_initializer(stddev=weights_initializer_stddev),\n",
    "            kernel_regularizer= tf.contrib.layers.l2_regularizer(weights_regularized_l2))\n",
    "    \n",
    "    #From layer 7 we need to transpose up\n",
    "    model['transpose_1'] = tf.layers.conv2d_transpose(model['fully_connected_convs'], model['settings']['num_classes'], 4, 2, padding='same',\n",
    "            kernel_initializer = tf.random_normal_initializer(stddev=weights_initializer_stddev),\n",
    "            kernel_regularizer= tf.contrib.layers.l2_regularizer(weights_regularized_l2))\n",
    "    \n",
    "    # Add the skip layer from layer 4\n",
    "    model['skip_1'] = tf.add(model['transpose_1'], model['skip_conv_4'])\n",
    "    \n",
    "    #Tranpose up from resultant layer\n",
    "    model['transpose_2'] = tf.layers.conv2d_transpose(model['skip_1'], model['settings']['num_classes'], 4, 2, padding='same',\n",
    "            kernel_initializer = tf.random_normal_initializer(stddev=weights_initializer_stddev),\n",
    "            kernel_regularizer= tf.contrib.layers.l2_regularizer(weights_regularized_l2))\n",
    "    \n",
    "    #Create skip layer from layer 3\n",
    "    model['skip_2'] = tf.add(model['skip_conv_3'], model['transpose_2'])\n",
    "    \n",
    "    #Final output layer\n",
    "    model['output_layer'] = tf.layers.conv2d_transpose(model['skip_2'], model['settings']['num_classes'], 16, 8, padding='same',\n",
    "            kernel_initializer = tf.random_normal_initializer(stddev=weights_initializer_stddev),\n",
    "            kernel_regularizer= tf.contrib.layers.l2_regularizer(weights_regularized_l2),\n",
    "            activation=tf.sigmoid)\n",
    "    \n",
    "    return model['output_layer']"
   ]
  },
  {
   "cell_type": "code",
   "execution_count": 23,
   "metadata": {},
   "outputs": [],
   "source": [
    "def vgg_fcn(model):\n",
    "    # Skip connections for later\n",
    "    model['skip_conv_3'] = tf.layers.conv2d(model['layer_3'], model['settings']['num_classes'], 1, padding='same')\n",
    "    \n",
    "    model['skip_conv_4'] = tf.layers.conv2d(model['layer_4'], model['settings']['num_classes'], 1, padding='same')\n",
    "    \n",
    "    #Layer 7 isn't skipped, it's passed right to transpose    \n",
    "    model['fully_connected_convs'] = tf.layers.conv2d(model['layer_7'], model['settings']['num_classes'], 1, padding='same')\n",
    "    \n",
    "    #From layer 7 we need to transpose up\n",
    "    model['transpose_1'] = tf.layers.conv2d_transpose(model['fully_connected_convs'], model['settings']['num_classes'], 4, 2, padding='same')\n",
    "    \n",
    "    # Add the skip layer from layer 4\n",
    "    model['skip_1'] = tf.add(model['transpose_1'], model['skip_conv_4'])\n",
    "    \n",
    "    #Tranpose up from resultant layer\n",
    "    model['transpose_2'] = tf.layers.conv2d_transpose(model['skip_1'], model['settings']['num_classes'], 4, 2, padding='same')\n",
    "    \n",
    "    #Create skip layer from layer 3\n",
    "    model['skip_2'] = tf.add(model['skip_conv_3'], model['transpose_2'])\n",
    "    \n",
    "    #Final output layer\n",
    "    model['output_layer'] = tf.layers.conv2d_transpose(model['skip_2'], model['settings']['num_classes'], 16, 8, padding='same', activation=tf.sigmoid)\n",
    "    \n",
    "    return model['output_layer']"
   ]
  },
  {
   "cell_type": "markdown",
   "metadata": {},
   "source": [
    "Generate logits"
   ]
  },
  {
   "cell_type": "code",
   "execution_count": 21,
   "metadata": {},
   "outputs": [],
   "source": [
    "def get_logits(model):\n",
    "    model['logits'] = {}\n",
    "    \n",
    "    #Create the optimzer\n",
    "    model['logits']['logits'] = tf.reshape(model['output_layer'], (-1, model['settings']['num_classes']))\n",
    "    model['logits']['correct_label'] = tf.reshape(model['placeholders']['label'], (-1, model['settings']['num_classes']))"
   ]
  },
  {
   "cell_type": "markdown",
   "metadata": {},
   "source": [
    "Create loss functions and training operation"
   ]
  },
  {
   "cell_type": "code",
   "execution_count": 29,
   "metadata": {},
   "outputs": [],
   "source": [
    "def get_loss(model):\n",
    "    model['loss'] = {}\n",
    "    \n",
    "    model['loss']['softmax'] = tf.nn.softmax_cross_entropy_with_logits_v2(logits=model['logits']['logits'], labels=model['logits']['correct_label'])\n",
    "    model['loss']['cross_entropy_loss'] = tf.reduce_mean(model['loss']['softmax'])\n",
    "    model['loss']['optimizer'] = tf.train.AdamOptimizer(learning_rate=model['placeholders']['learning_rate'])\n",
    "    model['loss']['train_op'] = model['loss']['optimizer'].minimize(model['loss']['cross_entropy_loss'])"
   ]
  },
  {
   "cell_type": "markdown",
   "metadata": {},
   "source": [
    "Model traning function"
   ]
  },
  {
   "cell_type": "code",
   "execution_count": 31,
   "metadata": {},
   "outputs": [],
   "source": [
    "def train(sess, model, epochs=1, batch_size=10, keep_probability=0.5, learning_rate_alpha=0.001):\n",
    "    \n",
    "    saver = tf.train.Saver()\n",
    "    \n",
    "    sess.run(tf.global_variables_initializer())\n",
    "    \n",
    "    print(\"Graph has been built - launching training\")\n",
    "    print(\"====== :-) ======\")\n",
    "    print()\n",
    "    \n",
    "    for epoch in range(epochs):\n",
    "        print(\"Launching Epoch {}\".format(epoch))\n",
    "        loss_log = []\n",
    "        batch_count = 0\n",
    "        \n",
    "        #get the images\n",
    "        for image, truth in get_training_data(batch_size):\n",
    "            batch_count += 1\n",
    "            _, loss = sess.run(\n",
    "                    [model['loss']['train_op'], model['loss']['cross_entropy_loss']],\n",
    "                    feed_dict = {\n",
    "                        model['input_layer']: image,\n",
    "                        model['placeholders']['label']: truth,\n",
    "                        model['keep_prob']: keep_probability,\n",
    "                        model['placeholders']['learning_rate']: learning_rate_alpha\n",
    "                    }\n",
    "                )\n",
    "            loss_log.append('{:3f}'.format(loss))\n",
    "            if(batch_count % 10 == 0):\n",
    "                print(\"Batch {} - loss of {}\".format(batch_count, loss))\n",
    "        print(\"Training for epoch finished - \", loss_log[-1])\n",
    "        chkpt_path = \"./chkpts/model_epoch_{}.ckpt\".format(epoch)\n",
    "        saver.save(sess, chkpt_path)\n",
    "        print(\"Model saved as {}\".format(chkpt_path))\n",
    "        print()\n",
    "    print(\"Training finished\")"
   ]
  },
  {
   "cell_type": "markdown",
   "metadata": {},
   "source": [
    "Combine the above functions for building our net and use them below to run the net and train it.\n",
    "\n",
    "Note that as of this run, we're using 13 classes, whereas our actual network uses 3. This is really just to see if it trains decently well and what our output is like. I'll only run 10 epochs. and see what I can get"
   ]
  },
  {
   "cell_type": "code",
   "execution_count": 33,
   "metadata": {
    "scrolled": true
   },
   "outputs": [
    {
     "name": "stdout",
     "output_type": "stream",
     "text": [
      "INFO:tensorflow:Restoring parameters from b'./vgg/variables/variables'\n",
      "Graph has been built - launching training\n",
      "====== :-) ======\n",
      "\n",
      "Launching Epoch 0\n"
     ]
    },
    {
     "name": "stderr",
     "output_type": "stream",
     "text": [
      "/home/keith/anaconda3/envs/dlnd/lib/python3.6/site-packages/ipykernel_launcher.py:18: DeprecationWarning: `imread` is deprecated!\n",
      "`imread` is deprecated in SciPy 1.0.0, and will be removed in 1.2.0.\n",
      "Use ``imageio.imread`` instead.\n",
      "/home/keith/anaconda3/envs/dlnd/lib/python3.6/site-packages/ipykernel_launcher.py:19: DeprecationWarning: `imresize` is deprecated!\n",
      "`imresize` is deprecated in SciPy 1.0.0, and will be removed in 1.2.0.\n",
      "Use ``skimage.transform.resize`` instead.\n",
      "/home/keith/anaconda3/envs/dlnd/lib/python3.6/site-packages/ipykernel_launcher.py:21: DeprecationWarning: `imread` is deprecated!\n",
      "`imread` is deprecated in SciPy 1.0.0, and will be removed in 1.2.0.\n",
      "Use ``imageio.imread`` instead.\n",
      "/home/keith/anaconda3/envs/dlnd/lib/python3.6/site-packages/ipykernel_launcher.py:22: DeprecationWarning: `imresize` is deprecated!\n",
      "`imresize` is deprecated in SciPy 1.0.0, and will be removed in 1.2.0.\n",
      "Use ``skimage.transform.resize`` instead.\n"
     ]
    },
    {
     "name": "stdout",
     "output_type": "stream",
     "text": [
      "Batch 10 - loss of 2.5196614265441895\n",
      "Batch 20 - loss of 2.4093995094299316\n",
      "Batch 30 - loss of 2.318009614944458\n",
      "Batch 40 - loss of 2.2749087810516357\n",
      "Batch 50 - loss of 2.23948335647583\n",
      "Batch 60 - loss of 2.211486577987671\n",
      "Batch 70 - loss of 2.192931890487671\n",
      "Batch 80 - loss of 2.1779415607452393\n",
      "Batch 90 - loss of 2.167819023132324\n",
      "Batch 100 - loss of 2.1632285118103027\n",
      "Batch 110 - loss of 2.158043146133423\n",
      "Batch 120 - loss of 2.151967763900757\n",
      "Batch 130 - loss of 2.142294406890869\n",
      "Batch 140 - loss of 2.137542247772217\n",
      "Batch 150 - loss of 2.1324615478515625\n",
      "Batch 160 - loss of 2.12631893157959\n",
      "Batch 170 - loss of 2.1288297176361084\n",
      "Batch 180 - loss of 2.1275577545166016\n",
      "Batch 190 - loss of 2.1198513507843018\n",
      "Batch 200 - loss of 2.1163132190704346\n",
      "Training for epoch finished -  2.116313\n",
      "Model saved as ./chkpts/model_epoch_0.ckpt\n",
      "\n",
      "Launching Epoch 1\n",
      "Batch 10 - loss of 2.115309000015259\n",
      "Batch 20 - loss of 2.1116161346435547\n",
      "Batch 30 - loss of 2.1056838035583496\n",
      "Batch 40 - loss of 2.100843667984009\n",
      "Batch 50 - loss of 2.101433277130127\n",
      "Batch 60 - loss of 2.095402240753174\n",
      "Batch 70 - loss of 2.0852596759796143\n",
      "Batch 80 - loss of 2.0805344581604004\n",
      "Batch 90 - loss of 2.075852394104004\n",
      "Batch 100 - loss of 2.075465202331543\n",
      "Batch 110 - loss of 2.074833869934082\n",
      "Batch 120 - loss of 2.0715930461883545\n",
      "Batch 130 - loss of 2.066840410232544\n",
      "Batch 140 - loss of 2.062213659286499\n",
      "Batch 150 - loss of 2.055737257003784\n",
      "Batch 160 - loss of 2.0512471199035645\n",
      "Batch 170 - loss of 2.0508759021759033\n",
      "Batch 180 - loss of 2.045764446258545\n",
      "Batch 190 - loss of 2.0464141368865967\n",
      "Batch 200 - loss of 2.041236639022827\n",
      "Training for epoch finished -  2.041237\n",
      "Model saved as ./chkpts/model_epoch_1.ckpt\n",
      "\n",
      "Launching Epoch 2\n",
      "Batch 10 - loss of 2.0421764850616455\n",
      "Batch 20 - loss of 2.0393073558807373\n",
      "Batch 30 - loss of 2.0393118858337402\n",
      "Batch 40 - loss of 2.038848400115967\n",
      "Batch 50 - loss of 2.039626359939575\n",
      "Batch 60 - loss of 2.037325143814087\n",
      "Batch 70 - loss of 2.0309367179870605\n",
      "Batch 80 - loss of 2.032236099243164\n",
      "Batch 90 - loss of 2.0304927825927734\n",
      "Batch 100 - loss of 2.028395891189575\n",
      "Batch 110 - loss of 2.026034355163574\n",
      "Batch 120 - loss of 2.025851249694824\n",
      "Batch 130 - loss of 2.0231094360351562\n",
      "Batch 140 - loss of 2.019597053527832\n",
      "Batch 150 - loss of 2.016636848449707\n",
      "Batch 160 - loss of 2.015334129333496\n",
      "Batch 170 - loss of 2.0160999298095703\n",
      "Batch 180 - loss of 2.0121841430664062\n",
      "Batch 190 - loss of 2.012652635574341\n",
      "Batch 200 - loss of 2.0088868141174316\n",
      "Training for epoch finished -  2.008887\n",
      "Model saved as ./chkpts/model_epoch_2.ckpt\n",
      "\n",
      "Launching Epoch 3\n",
      "Batch 10 - loss of 2.010181188583374\n",
      "Batch 20 - loss of 2.0075137615203857\n",
      "Batch 30 - loss of 2.006991386413574\n",
      "Batch 40 - loss of 2.0059103965759277\n",
      "Batch 50 - loss of 2.0066964626312256\n",
      "Batch 60 - loss of 2.004793405532837\n",
      "Batch 70 - loss of 2.0028064250946045\n",
      "Batch 80 - loss of 2.002944231033325\n",
      "Batch 90 - loss of 2.0019044876098633\n",
      "Batch 100 - loss of 1.9985840320587158\n",
      "Batch 110 - loss of 1.9976946115493774\n",
      "Batch 120 - loss of 1.9967572689056396\n",
      "Batch 130 - loss of 1.995300531387329\n",
      "Batch 140 - loss of 1.9932363033294678\n",
      "Batch 150 - loss of 1.993882417678833\n",
      "Batch 160 - loss of 1.992908239364624\n",
      "Batch 170 - loss of 1.9925998449325562\n",
      "Batch 180 - loss of 1.9909747838974\n",
      "Batch 190 - loss of 1.9908207654953003\n",
      "Batch 200 - loss of 1.988538384437561\n",
      "Training for epoch finished -  1.988538\n",
      "Model saved as ./chkpts/model_epoch_3.ckpt\n",
      "\n",
      "Launching Epoch 4\n",
      "Batch 10 - loss of 1.9886786937713623\n",
      "Batch 20 - loss of 1.9867708683013916\n",
      "Batch 30 - loss of 1.9844515323638916\n",
      "Batch 40 - loss of 1.9844465255737305\n",
      "Batch 50 - loss of 1.9825760126113892\n",
      "Batch 60 - loss of 1.9805402755737305\n",
      "Batch 70 - loss of 1.9794026613235474\n",
      "Batch 80 - loss of 1.9807220697402954\n",
      "Batch 90 - loss of 1.9792181253433228\n",
      "Batch 100 - loss of 1.9772862195968628\n",
      "Batch 110 - loss of 1.9779771566390991\n",
      "Batch 120 - loss of 1.97706139087677\n",
      "Batch 130 - loss of 1.9769388437271118\n",
      "Batch 140 - loss of 1.9760738611221313\n",
      "Batch 150 - loss of 1.9760890007019043\n",
      "Batch 160 - loss of 1.9754806756973267\n",
      "Batch 170 - loss of 1.9754838943481445\n",
      "Batch 180 - loss of 1.9750680923461914\n",
      "Batch 190 - loss of 1.9751372337341309\n",
      "Batch 200 - loss of 1.9732787609100342\n",
      "Training for epoch finished -  1.973279\n",
      "Model saved as ./chkpts/model_epoch_4.ckpt\n",
      "\n",
      "Launching Epoch 5\n",
      "Batch 10 - loss of 1.9719542264938354\n",
      "Batch 20 - loss of 1.9697195291519165\n",
      "Batch 30 - loss of 1.9682049751281738\n",
      "Batch 40 - loss of 1.9673343896865845\n",
      "Batch 50 - loss of 1.9676297903060913\n",
      "Batch 60 - loss of 1.9657050371170044\n",
      "Batch 70 - loss of 1.9636542797088623\n",
      "Batch 80 - loss of 1.9639537334442139\n",
      "Batch 90 - loss of 1.962519645690918\n",
      "Batch 100 - loss of 1.9619574546813965\n",
      "Batch 110 - loss of 1.9625685214996338\n",
      "Batch 120 - loss of 1.961388111114502\n",
      "Batch 130 - loss of 1.9601527452468872\n",
      "Batch 140 - loss of 1.9596679210662842\n",
      "Batch 150 - loss of 1.9593803882598877\n",
      "Batch 160 - loss of 1.9599053859710693\n",
      "Batch 170 - loss of 1.9585896730422974\n",
      "Batch 180 - loss of 1.9577834606170654\n",
      "Batch 190 - loss of 1.9574185609817505\n",
      "Batch 200 - loss of 1.9562010765075684\n",
      "Training for epoch finished -  1.956201\n",
      "Model saved as ./chkpts/model_epoch_5.ckpt\n",
      "\n",
      "Launching Epoch 6\n",
      "Batch 10 - loss of 1.9553042650222778\n",
      "Batch 20 - loss of 1.9542526006698608\n",
      "Batch 30 - loss of 1.9539411067962646\n",
      "Batch 40 - loss of 1.9530409574508667\n",
      "Batch 50 - loss of 1.9537689685821533\n",
      "Batch 60 - loss of 1.9532642364501953\n",
      "Batch 70 - loss of 1.9522086381912231\n",
      "Batch 80 - loss of 1.9533101320266724\n",
      "Batch 90 - loss of 1.9523636102676392\n",
      "Batch 100 - loss of 1.9521456956863403\n",
      "Batch 110 - loss of 1.9525823593139648\n",
      "Batch 120 - loss of 1.9526464939117432\n",
      "Batch 130 - loss of 1.952066421508789\n",
      "Batch 140 - loss of 1.9485373497009277\n",
      "Batch 150 - loss of 1.9476420879364014\n",
      "Batch 160 - loss of 1.9473869800567627\n",
      "Batch 170 - loss of 1.946874737739563\n",
      "Batch 180 - loss of 1.9465787410736084\n",
      "Batch 190 - loss of 1.9462608098983765\n",
      "Batch 200 - loss of 1.9454841613769531\n",
      "Training for epoch finished -  1.945484\n",
      "Model saved as ./chkpts/model_epoch_6.ckpt\n",
      "\n",
      "Launching Epoch 7\n",
      "Batch 10 - loss of 1.9459513425827026\n",
      "Batch 20 - loss of 1.9460265636444092\n",
      "Batch 30 - loss of 1.945300579071045\n",
      "Batch 40 - loss of 1.944042444229126\n",
      "Batch 50 - loss of 1.9434616565704346\n",
      "Batch 60 - loss of 1.9420698881149292\n",
      "Batch 70 - loss of 1.9410456418991089\n",
      "Batch 80 - loss of 1.9414448738098145\n",
      "Batch 90 - loss of 1.9397379159927368\n",
      "Batch 100 - loss of 1.9393264055252075\n",
      "Batch 110 - loss of 1.9411811828613281\n",
      "Batch 120 - loss of 1.939743161201477\n",
      "Batch 130 - loss of 1.9403239488601685\n",
      "Batch 140 - loss of 1.9387478828430176\n",
      "Batch 150 - loss of 1.9388221502304077\n",
      "Batch 160 - loss of 1.93844735622406\n",
      "Batch 170 - loss of 1.9368902444839478\n",
      "Batch 180 - loss of 1.936401128768921\n",
      "Batch 190 - loss of 1.9353368282318115\n",
      "Batch 200 - loss of 1.9341965913772583\n",
      "Training for epoch finished -  1.934197\n",
      "Model saved as ./chkpts/model_epoch_7.ckpt\n",
      "\n",
      "Launching Epoch 8\n",
      "Batch 10 - loss of 1.9340227842330933\n",
      "Batch 20 - loss of 1.933264970779419\n",
      "Batch 30 - loss of 1.9319216012954712\n",
      "Batch 40 - loss of 1.9302501678466797\n",
      "Batch 50 - loss of 1.9296878576278687\n",
      "Batch 60 - loss of 1.9298325777053833\n",
      "Batch 70 - loss of 1.9284076690673828\n",
      "Batch 80 - loss of 1.9282288551330566\n",
      "Batch 90 - loss of 1.927794098854065\n",
      "Batch 100 - loss of 1.927152395248413\n",
      "Batch 110 - loss of 1.9278512001037598\n",
      "Batch 120 - loss of 1.9279093742370605\n",
      "Batch 130 - loss of 1.9276142120361328\n",
      "Batch 140 - loss of 1.9268196821212769\n",
      "Batch 150 - loss of 1.9265817403793335\n",
      "Batch 160 - loss of 1.9257969856262207\n",
      "Batch 170 - loss of 1.9253393411636353\n",
      "Batch 180 - loss of 1.9250997304916382\n",
      "Batch 190 - loss of 1.9249463081359863\n",
      "Batch 200 - loss of 1.923074722290039\n",
      "Training for epoch finished -  1.923075\n",
      "Model saved as ./chkpts/model_epoch_8.ckpt\n",
      "\n",
      "Launching Epoch 9\n",
      "Batch 10 - loss of 1.9221893548965454\n",
      "Batch 20 - loss of 1.9217675924301147\n",
      "Batch 30 - loss of 1.9197360277175903\n",
      "Batch 40 - loss of 1.9185779094696045\n",
      "Batch 50 - loss of 1.9187201261520386\n",
      "Batch 60 - loss of 1.9178906679153442\n",
      "Batch 70 - loss of 1.9166406393051147\n",
      "Batch 80 - loss of 1.9173743724822998\n",
      "Batch 90 - loss of 1.9157956838607788\n",
      "Batch 100 - loss of 1.9149035215377808\n",
      "Batch 110 - loss of 1.9163888692855835\n"
     ]
    },
    {
     "name": "stdout",
     "output_type": "stream",
     "text": [
      "Batch 120 - loss of 1.9145445823669434\n",
      "Batch 130 - loss of 1.9152504205703735\n",
      "Batch 140 - loss of 1.9137307405471802\n",
      "Batch 150 - loss of 1.913623332977295\n",
      "Batch 160 - loss of 1.9130363464355469\n",
      "Batch 170 - loss of 1.9127124547958374\n",
      "Batch 180 - loss of 1.9123023748397827\n",
      "Batch 190 - loss of 1.9113293886184692\n",
      "Batch 200 - loss of 1.910696029663086\n",
      "Training for epoch finished -  1.910696\n",
      "Model saved as ./chkpts/model_epoch_9.ckpt\n",
      "\n",
      "Training finished\n"
     ]
    }
   ],
   "source": [
    "tf.reset_default_graph()\n",
    "with tf.Session() as sess:\n",
    "    \n",
    "    model = {}\n",
    "    model['settings'] = { \"num_classes\": 13 }\n",
    "    get_placeholders(model)\n",
    "    load_vgg(model)\n",
    "    vgg_fcn(model)\n",
    "    get_logits(model)\n",
    "    get_loss(model)\n",
    " \n",
    "    train(sess, model, 10, 5, 0.75, 0.0001)\n",
    "  "
   ]
  },
  {
   "cell_type": "markdown",
   "metadata": {},
   "source": [
    "After training above, we don't have great results, but let's see what the network is doing.\n",
    "\n",
    "I didn't expect great results - given the very tiny size of the dataset and the number of classes we have to define, I'd expect poor results. This is mostly to ensure we don't have any oddities in training and the network architecture *can* learn, and that our output looks even somewhat \"correct\"."
   ]
  },
  {
   "cell_type": "code",
   "execution_count": 51,
   "metadata": {},
   "outputs": [],
   "source": [
    "def execute_on_image(sess, model):\n",
    "\n",
    "    chosen_image = \"165\"\n",
    "    image_file = \"./data/Train/CameraRGB/{}.png\".format(chosen_image)\n",
    "    truth_file = \"./data/Train/CameraSeg/{}.png\".format(chosen_image)\n",
    "    \n",
    "    image = scipy.misc.imread(image_file)\n",
    "    image = scipy.misc.imresize(image, image_shape)\n",
    "    plt.figure()\n",
    "    plt.imshow(image)\n",
    "    \n",
    "    truth = scipy.misc.imread(truth_file)\n",
    "    truth = scipy.misc.imresize(truth, image_shape)\n",
    "    plt.figure()\n",
    "    plt.imshow(truth)\n",
    "    truth = imageToTruth(truth)\n",
    "    \n",
    "    return sess.run([model['output_layer']], feed_dict={\n",
    "            model['input_layer']: image,\n",
    "            model['placeholders']['label']: truth,\n",
    "            model['keep_prob']: .9,\n",
    "            model['placeholders']['learning_rate']: 0.01\n",
    "        })"
   ]
  },
  {
   "cell_type": "code",
   "execution_count": 52,
   "metadata": {},
   "outputs": [
    {
     "name": "stdout",
     "output_type": "stream",
     "text": [
      "INFO:tensorflow:Restoring parameters from ./chkpts/model_epoch_9.ckpt\n"
     ]
    },
    {
     "name": "stderr",
     "output_type": "stream",
     "text": [
      "/home/keith/anaconda3/envs/dlnd/lib/python3.6/site-packages/ipykernel_launcher.py:7: DeprecationWarning: `imread` is deprecated!\n",
      "`imread` is deprecated in SciPy 1.0.0, and will be removed in 1.2.0.\n",
      "Use ``imageio.imread`` instead.\n",
      "  import sys\n",
      "/home/keith/anaconda3/envs/dlnd/lib/python3.6/site-packages/ipykernel_launcher.py:8: DeprecationWarning: `imresize` is deprecated!\n",
      "`imresize` is deprecated in SciPy 1.0.0, and will be removed in 1.2.0.\n",
      "Use ``skimage.transform.resize`` instead.\n",
      "  \n",
      "/home/keith/anaconda3/envs/dlnd/lib/python3.6/site-packages/ipykernel_launcher.py:12: DeprecationWarning: `imread` is deprecated!\n",
      "`imread` is deprecated in SciPy 1.0.0, and will be removed in 1.2.0.\n",
      "Use ``imageio.imread`` instead.\n",
      "  if sys.path[0] == '':\n",
      "/home/keith/anaconda3/envs/dlnd/lib/python3.6/site-packages/ipykernel_launcher.py:13: DeprecationWarning: `imresize` is deprecated!\n",
      "`imresize` is deprecated in SciPy 1.0.0, and will be removed in 1.2.0.\n",
      "Use ``skimage.transform.resize`` instead.\n",
      "  del sys.path[0]\n"
     ]
    },
    {
     "ename": "TypeError",
     "evalue": "Cannot interpret feed_dict key as Tensor: Tensor Tensor(\"image_input:0\", shape=(?, ?, ?, 3), dtype=float32) is not an element of this graph.",
     "output_type": "error",
     "traceback": [
      "\u001b[0;31m---------------------------------------------------------------------------\u001b[0m",
      "\u001b[0;31mValueError\u001b[0m                                Traceback (most recent call last)",
      "\u001b[0;32m~/anaconda3/envs/dlnd/lib/python3.6/site-packages/tensorflow/python/client/session.py\u001b[0m in \u001b[0;36m_run\u001b[0;34m(self, handle, fetches, feed_dict, options, run_metadata)\u001b[0m\n\u001b[1;32m   1079\u001b[0m             subfeed_t = self.graph.as_graph_element(\n\u001b[0;32m-> 1080\u001b[0;31m                 subfeed, allow_tensor=True, allow_operation=False)\n\u001b[0m\u001b[1;32m   1081\u001b[0m           \u001b[0;32mexcept\u001b[0m \u001b[0mException\u001b[0m \u001b[0;32mas\u001b[0m \u001b[0me\u001b[0m\u001b[0;34m:\u001b[0m\u001b[0;34m\u001b[0m\u001b[0m\n",
      "\u001b[0;32m~/anaconda3/envs/dlnd/lib/python3.6/site-packages/tensorflow/python/framework/ops.py\u001b[0m in \u001b[0;36mas_graph_element\u001b[0;34m(self, obj, allow_tensor, allow_operation)\u001b[0m\n\u001b[1;32m   3458\u001b[0m     \u001b[0;32mwith\u001b[0m \u001b[0mself\u001b[0m\u001b[0;34m.\u001b[0m\u001b[0m_lock\u001b[0m\u001b[0;34m:\u001b[0m\u001b[0;34m\u001b[0m\u001b[0m\n\u001b[0;32m-> 3459\u001b[0;31m       \u001b[0;32mreturn\u001b[0m \u001b[0mself\u001b[0m\u001b[0;34m.\u001b[0m\u001b[0m_as_graph_element_locked\u001b[0m\u001b[0;34m(\u001b[0m\u001b[0mobj\u001b[0m\u001b[0;34m,\u001b[0m \u001b[0mallow_tensor\u001b[0m\u001b[0;34m,\u001b[0m \u001b[0mallow_operation\u001b[0m\u001b[0;34m)\u001b[0m\u001b[0;34m\u001b[0m\u001b[0m\n\u001b[0m\u001b[1;32m   3460\u001b[0m \u001b[0;34m\u001b[0m\u001b[0m\n",
      "\u001b[0;32m~/anaconda3/envs/dlnd/lib/python3.6/site-packages/tensorflow/python/framework/ops.py\u001b[0m in \u001b[0;36m_as_graph_element_locked\u001b[0;34m(self, obj, allow_tensor, allow_operation)\u001b[0m\n\u001b[1;32m   3537\u001b[0m       \u001b[0;32mif\u001b[0m \u001b[0mobj\u001b[0m\u001b[0;34m.\u001b[0m\u001b[0mgraph\u001b[0m \u001b[0;32mis\u001b[0m \u001b[0;32mnot\u001b[0m \u001b[0mself\u001b[0m\u001b[0;34m:\u001b[0m\u001b[0;34m\u001b[0m\u001b[0m\n\u001b[0;32m-> 3538\u001b[0;31m         \u001b[0;32mraise\u001b[0m \u001b[0mValueError\u001b[0m\u001b[0;34m(\u001b[0m\u001b[0;34m\"Tensor %s is not an element of this graph.\"\u001b[0m \u001b[0;34m%\u001b[0m \u001b[0mobj\u001b[0m\u001b[0;34m)\u001b[0m\u001b[0;34m\u001b[0m\u001b[0m\n\u001b[0m\u001b[1;32m   3539\u001b[0m       \u001b[0;32mreturn\u001b[0m \u001b[0mobj\u001b[0m\u001b[0;34m\u001b[0m\u001b[0m\n",
      "\u001b[0;31mValueError\u001b[0m: Tensor Tensor(\"image_input:0\", shape=(?, ?, ?, 3), dtype=float32) is not an element of this graph.",
      "\nDuring handling of the above exception, another exception occurred:\n",
      "\u001b[0;31mTypeError\u001b[0m                                 Traceback (most recent call last)",
      "\u001b[0;32m<ipython-input-52-2b942b3095e3>\u001b[0m in \u001b[0;36m<module>\u001b[0;34m()\u001b[0m\n\u001b[1;32m      4\u001b[0m     \u001b[0msaver\u001b[0m\u001b[0;34m.\u001b[0m\u001b[0mrestore\u001b[0m\u001b[0;34m(\u001b[0m\u001b[0msess\u001b[0m\u001b[0;34m,\u001b[0m \u001b[0mtf\u001b[0m\u001b[0;34m.\u001b[0m\u001b[0mtrain\u001b[0m\u001b[0;34m.\u001b[0m\u001b[0mlatest_checkpoint\u001b[0m\u001b[0;34m(\u001b[0m\u001b[0;34m'./chkpts/'\u001b[0m\u001b[0;34m)\u001b[0m\u001b[0;34m)\u001b[0m\u001b[0;34m\u001b[0m\u001b[0m\n\u001b[1;32m      5\u001b[0m \u001b[0;34m\u001b[0m\u001b[0m\n\u001b[0;32m----> 6\u001b[0;31m     \u001b[0mresults\u001b[0m \u001b[0;34m=\u001b[0m \u001b[0mexecute_on_image\u001b[0m\u001b[0;34m(\u001b[0m\u001b[0msess\u001b[0m\u001b[0;34m,\u001b[0m \u001b[0mmodel\u001b[0m\u001b[0;34m)\u001b[0m\u001b[0;34m\u001b[0m\u001b[0m\n\u001b[0m",
      "\u001b[0;32m<ipython-input-51-c361f2935222>\u001b[0m in \u001b[0;36mexecute_on_image\u001b[0;34m(sess, model)\u001b[0m\n\u001b[1;32m     20\u001b[0m             \u001b[0mmodel\u001b[0m\u001b[0;34m[\u001b[0m\u001b[0;34m'placeholders'\u001b[0m\u001b[0;34m]\u001b[0m\u001b[0;34m[\u001b[0m\u001b[0;34m'label'\u001b[0m\u001b[0;34m]\u001b[0m\u001b[0;34m:\u001b[0m \u001b[0mtruth\u001b[0m\u001b[0;34m,\u001b[0m\u001b[0;34m\u001b[0m\u001b[0m\n\u001b[1;32m     21\u001b[0m             \u001b[0mmodel\u001b[0m\u001b[0;34m[\u001b[0m\u001b[0;34m'keep_prob'\u001b[0m\u001b[0;34m]\u001b[0m\u001b[0;34m:\u001b[0m \u001b[0;36m.9\u001b[0m\u001b[0;34m,\u001b[0m\u001b[0;34m\u001b[0m\u001b[0m\n\u001b[0;32m---> 22\u001b[0;31m             \u001b[0mmodel\u001b[0m\u001b[0;34m[\u001b[0m\u001b[0;34m'placeholders'\u001b[0m\u001b[0;34m]\u001b[0m\u001b[0;34m[\u001b[0m\u001b[0;34m'learning_rate'\u001b[0m\u001b[0;34m]\u001b[0m\u001b[0;34m:\u001b[0m \u001b[0;36m0.01\u001b[0m\u001b[0;34m\u001b[0m\u001b[0m\n\u001b[0m\u001b[1;32m     23\u001b[0m         })\n",
      "\u001b[0;32m~/anaconda3/envs/dlnd/lib/python3.6/site-packages/tensorflow/python/client/session.py\u001b[0m in \u001b[0;36mrun\u001b[0;34m(self, fetches, feed_dict, options, run_metadata)\u001b[0m\n\u001b[1;32m    903\u001b[0m     \u001b[0;32mtry\u001b[0m\u001b[0;34m:\u001b[0m\u001b[0;34m\u001b[0m\u001b[0m\n\u001b[1;32m    904\u001b[0m       result = self._run(None, fetches, feed_dict, options_ptr,\n\u001b[0;32m--> 905\u001b[0;31m                          run_metadata_ptr)\n\u001b[0m\u001b[1;32m    906\u001b[0m       \u001b[0;32mif\u001b[0m \u001b[0mrun_metadata\u001b[0m\u001b[0;34m:\u001b[0m\u001b[0;34m\u001b[0m\u001b[0m\n\u001b[1;32m    907\u001b[0m         \u001b[0mproto_data\u001b[0m \u001b[0;34m=\u001b[0m \u001b[0mtf_session\u001b[0m\u001b[0;34m.\u001b[0m\u001b[0mTF_GetBuffer\u001b[0m\u001b[0;34m(\u001b[0m\u001b[0mrun_metadata_ptr\u001b[0m\u001b[0;34m)\u001b[0m\u001b[0;34m\u001b[0m\u001b[0m\n",
      "\u001b[0;32m~/anaconda3/envs/dlnd/lib/python3.6/site-packages/tensorflow/python/client/session.py\u001b[0m in \u001b[0;36m_run\u001b[0;34m(self, handle, fetches, feed_dict, options, run_metadata)\u001b[0m\n\u001b[1;32m   1081\u001b[0m           \u001b[0;32mexcept\u001b[0m \u001b[0mException\u001b[0m \u001b[0;32mas\u001b[0m \u001b[0me\u001b[0m\u001b[0;34m:\u001b[0m\u001b[0;34m\u001b[0m\u001b[0m\n\u001b[1;32m   1082\u001b[0m             raise TypeError(\n\u001b[0;32m-> 1083\u001b[0;31m                 'Cannot interpret feed_dict key as Tensor: ' + e.args[0])\n\u001b[0m\u001b[1;32m   1084\u001b[0m \u001b[0;34m\u001b[0m\u001b[0m\n\u001b[1;32m   1085\u001b[0m           \u001b[0;32mif\u001b[0m \u001b[0misinstance\u001b[0m\u001b[0;34m(\u001b[0m\u001b[0msubfeed_val\u001b[0m\u001b[0;34m,\u001b[0m \u001b[0mops\u001b[0m\u001b[0;34m.\u001b[0m\u001b[0mTensor\u001b[0m\u001b[0;34m)\u001b[0m\u001b[0;34m:\u001b[0m\u001b[0;34m\u001b[0m\u001b[0m\n",
      "\u001b[0;31mTypeError\u001b[0m: Cannot interpret feed_dict key as Tensor: Tensor Tensor(\"image_input:0\", shape=(?, ?, ?, 3), dtype=float32) is not an element of this graph."
     ]
    },
    {
     "data": {
      "image/png": "[encoded data removed]",
      "text/plain": [
       "<Figure size 432x288 with 1 Axes>"
      ]
     },
     "metadata": {},
     "output_type": "display_data"
    },
    {
     "data": {
      "image/png": "[encoded data removed]",
      "text/plain": [
       "<Figure size 432x288 with 1 Axes>"
      ]
     },
     "metadata": {},
     "output_type": "display_data"
    }
   ],
   "source": [
    "tf.reset_default_graph()\n",
    "with tf.Session() as sess:\n",
    "    saver = tf.train.import_meta_graph(\"./chkpts/model_epoch_9.ckpt.meta\")\n",
    "    saver.restore(sess, tf.train.latest_checkpoint('./chkpts/'))\n",
    "    \n",
    "    results = execute_on_image(sess, model)"
   ]
  },
  {
   "cell_type": "code",
   "execution_count": null,
   "metadata": {},
   "outputs": [],
   "source": []
  }
 ],
 "metadata": {
  "kernelspec": {
   "display_name": "Python 3",
   "language": "python",
   "name": "python3"
  },
  "language_info": {
   "codemirror_mode": {
    "name": "ipython",
    "version": 3
   },
   "file_extension": ".py",
   "mimetype": "text/x-python",
   "name": "python",
   "nbconvert_exporter": "python",
   "pygments_lexer": "ipython3",
   "version": "3.6.4"
  }
 },
 "nbformat": 4,
 "nbformat_minor": 2
}
