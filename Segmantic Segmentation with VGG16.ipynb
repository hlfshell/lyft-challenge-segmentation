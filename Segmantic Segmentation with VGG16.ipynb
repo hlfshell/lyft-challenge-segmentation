{
 "cells": [
  {
   "cell_type": "markdown",
   "metadata": {},
   "source": [
    "# Segmantic Segmentation with VGG16\n",
    "\n",
    "The initial attempt with using a GAN hit a wall, specifically with figuring out how to do proper layer sizing for the transposed convolution layers for the generator. On top of that, some research I did during my \"off\" time showed that the approach semantic segmentation using either an FCN (Fully Convolutional Network) approach or SegNet would work best.\n",
    "\n",
    "Since SegNet is completely new, whereas transfer learning with VGG16 is something I'm familiar with, I'm going to attempt a VGG16 network here."
   ]
  },
  {
   "cell_type": "code",
   "execution_count": 1,
   "metadata": {},
   "outputs": [
    {
     "name": "stdout",
     "output_type": "stream",
     "text": [
      "Default GPU Device: /device:GPU:0\n",
      "TensorFlow Version: 1.6.0\n"
     ]
    }
   ],
   "source": [
    "import numpy as np\n",
    "import cv2\n",
    "import matplotlib.pyplot as plt\n",
    "from random import randint\n",
    "from glob import glob\n",
    "import os\n",
    "import os.path\n",
    "\n",
    "%matplotlib inline\n",
    "\n",
    "import tensorflow as tf\n",
    "#Check GPU\n",
    "print('Default GPU Device: {}'.format(tf.test.gpu_device_name()))\n",
    "print('TensorFlow Version: {}'.format(tf.__version__))"
   ]
  },
  {
   "cell_type": "code",
   "execution_count": 2,
   "metadata": {},
   "outputs": [],
   "source": [
    "#useful variables\n",
    "num_classes = 13 # none and 12 options, 0-12\n",
    "image_shape = (160, 576)\n",
    "weights_initializer_stddev = 0.01\n",
    "weights_regularized_l2 = 1e-3"
   ]
  },
  {
   "cell_type": "markdown",
   "metadata": {},
   "source": [
    "## Load VGG16\n",
    "\n",
    "\n",
    "First we're going to load VGG16 with pretrained weights (so it maintains its feature detectors, which can be useful for our smaller dataset)."
   ]
  },
  {
   "cell_type": "code",
   "execution_count": 3,
   "metadata": {},
   "outputs": [
    {
     "name": "stdout",
     "output_type": "stream",
     "text": [
      "Already exists, skipping download\n"
     ]
    }
   ],
   "source": [
    "#Download VGG16 if it is not already\n",
    "from urllib.request import urlretrieve\n",
    "import zipfile\n",
    "\n",
    "if not os.path.exists(\"vgg16.zip\"):\n",
    "    urlretrieve(\n",
    "        'https://s3-us-west-1.amazonaws.com/udacity-selfdrivingcar/vgg.zip',\n",
    "        \"./vgg16.zip\")\n",
    "    print(\"Downloaded VGG16 model weights\")\n",
    "else:\n",
    "    print(\"Already exists, skipping download\")"
   ]
  },
  {
   "cell_type": "code",
   "execution_count": 4,
   "metadata": {},
   "outputs": [
    {
     "name": "stdout",
     "output_type": "stream",
     "text": [
      "Already exists, skipping extraction\n"
     ]
    }
   ],
   "source": [
    "#Extract if needed\n",
    "if not os.path.exists(\"./vgg\"):\n",
    "    unzip = zipfile.ZipFile(\"./vgg16.zip\", \"r\")\n",
    "    unzip.extractall(\"./\")\n",
    "    unzip.close()\n",
    "    print(\"Extracted VGG16 model weights\")\n",
    "else:\n",
    "    print(\"Already exists, skipping extraction\")"
   ]
  },
  {
   "cell_type": "code",
   "execution_count": 5,
   "metadata": {},
   "outputs": [],
   "source": [
    "#Make a map more colorful\n",
    "def convertToColor(value):\n",
    "    colors = [\n",
    "        (255, 255, 255),   #0\n",
    "        (255, 0, 0),      #1\n",
    "        (0, 255, 0),      #2\n",
    "        (0, 0, 255),      #3\n",
    "        (255, 255, 0),    #4\n",
    "        (127, 0, 255),    #5\n",
    "        (51, 255, 51),    #6\n",
    "        (255, 0, 127),    #7\n",
    "        (127, 127, 127),  #8\n",
    "        (0, 0, 0),        #9\n",
    "        (0, 255, 255),  #10\n",
    "        (0, 0, 100),      #11\n",
    "        (100, 0, 0),      #12\n",
    "    ]\n",
    "    return colors[value[0]]\n",
    "\n",
    "def colorizeMap(img):\n",
    "    return [list( map(convertToColor, row) ) for row in img]"
   ]
  },
  {
   "cell_type": "code",
   "execution_count": 6,
   "metadata": {},
   "outputs": [],
   "source": [
    "#We need to be able to convert the image map to a 13 channel ground truth map, and vice versa\n",
    "def pixelToTruth(value):\n",
    "    truths = [\n",
    "        (1, 0, 0, 0, 0, 0, 0, 0, 0, 0, 0, 0, 0),\n",
    "        (0, 1, 0, 0, 0, 0, 0, 0, 0, 0, 0, 0, 0),\n",
    "        (0, 0, 1, 0, 0, 0, 0, 0, 0, 0, 0, 0, 0),\n",
    "        (0, 0, 0, 1, 0, 0, 0, 0, 0, 0, 0, 0, 0),\n",
    "        (0, 0, 0, 0, 1, 0, 0, 0, 0, 0, 0, 0, 0),\n",
    "        (0, 0, 0, 0, 0, 1, 0, 0, 0, 0, 0, 0, 0),\n",
    "        (0, 0, 0, 0, 0, 0, 1, 0, 0, 0, 0, 0, 0),\n",
    "        (0, 0, 0, 0, 0, 0, 0, 1, 0, 0, 0, 0, 0),\n",
    "        (0, 0, 0, 0, 0, 0, 0, 0, 1, 0, 0, 0, 0),\n",
    "        (0, 0, 0, 0, 0, 0, 0, 0, 0, 1, 0, 0, 0),\n",
    "        (0, 0, 0, 0, 0, 0, 0, 0, 0, 0, 1, 0, 0),\n",
    "        (0, 0, 0, 0, 0, 0, 0, 0, 0, 0, 0, 1, 0),\n",
    "        (0, 0, 0, 0, 0, 0, 0, 0, 0, 0, 0, 0, 1)\n",
    "    ]\n",
    "    \n",
    "    return truths[value[0]]\n",
    "\n",
    "def truthToPixel(value):\n",
    "    return (value.tolist().index(1), 0, 0)\n",
    "\n",
    "def imageToTruth(img):\n",
    "    return [list(map(pixelToTruth, row)) for row in img]\n",
    "\n",
    "def truthToImage(truth):\n",
    "    return [list(map(truthToPixel, row)) for row in truth]"
   ]
  },
  {
   "cell_type": "code",
   "execution_count": 7,
   "metadata": {},
   "outputs": [],
   "source": [
    "# Function to load the image data and the label for it\n",
    "def get_training_data(batch_size):\n",
    "    #Both inputs and ground truth maps have the same name - easy!\n",
    "    image_paths = glob(os.path.join(\"./data/Train/CameraRGB\", \"*.png\"))\n",
    "    label_paths = glob(os.path.join(\"./data/Train/CameraSeg\", \"*.png\"))\n",
    "    \n",
    "    for batch in range(0, len(image_paths), batch_size):\n",
    "        images = []\n",
    "        maps = []\n",
    "    \n",
    "    for batch in range(0, len(image_paths), batch_size):\n",
    "        images = []\n",
    "        maps = []\n",
    "        \n",
    "        for index, image_file in enumerate(image_paths[batch:batch + batch_size]):\n",
    "            map_file = os.path.join(label_paths[index])\n",
    "            \n",
    "            image = cv2.imread(image_file)\n",
    "#             image = cv2.cvtColor(image, cv2.COLOR_BGR2RGB)\n",
    "            image = cv2.resize(image, image_shape)\n",
    "#             image = image - np.array([123.68, 116.779, 103.939], dtype=np.float32)\n",
    "            map_image = cv2.imread(map_file)\n",
    "            map_image = cv2.cvtColor(map_image, cv2.COLOR_BGR2RGB)\n",
    "            map_image = cv2.resize(map_image, image_shape)\n",
    "            map_image = imageToTruth(map_image)\n",
    "            \n",
    "            images.append(image)\n",
    "            maps.append(map_image)\n",
    "\n",
    "        yield np.array(images), np.array(maps)\n",
    "            \n",
    "            "
   ]
  },
  {
   "cell_type": "code",
   "execution_count": 8,
   "metadata": {},
   "outputs": [],
   "source": [
    "def get_placeholders():\n",
    "    #Placeholders\n",
    "    label = tf.placeholder(tf.int32, (None, None, None, num_classes), name='label')\n",
    "    learning_rate = tf.placeholder(tf.int32, name='learning_rate')\n",
    "    \n",
    "    return label, learning_rate"
   ]
  },
  {
   "cell_type": "code",
   "execution_count": 9,
   "metadata": {},
   "outputs": [],
   "source": [
    "def load_vgg():\n",
    "    #Grab layers from pretrained VGG\n",
    "    tf.saved_model.loader.load(sess, [\"vgg16\"], \"./vgg/\")\n",
    "    \n",
    "    graph = tf.get_default_graph()\n",
    "    \n",
    "    #define key layers for us to work with, so we can take pieces of VGG16\n",
    "    #for our own use\n",
    "    input_layer = graph.get_tensor_by_name(\"image_input:0\")\n",
    "    keep_prob = graph.get_tensor_by_name(\"keep_prob:0\") #Dropout settings\n",
    "    \n",
    "    #more layer grabbing\n",
    "    layer_3 = graph.get_tensor_by_name(\"layer3_out:0\")\n",
    "    layer_4 = graph.get_tensor_by_name(\"layer4_out:0\")\n",
    "    layer_7 = graph.get_tensor_by_name(\"layer7_out:0\")\n",
    "    \n",
    "    return graph, input_layer, keep_prob, layer_3, layer_4, layer_7"
   ]
  },
  {
   "cell_type": "code",
   "execution_count": 18,
   "metadata": {},
   "outputs": [],
   "source": [
    "def vgg_fcn(graph, input_layer, keep_prob, layer_3, layer_4, layer_7):\n",
    "    # Skip connections for later\n",
    "    skip_conv_3 = tf.layers.conv2d(layer_3, num_classes, 1, padding='same',\n",
    "            kernel_initializer = tf.random_normal_initializer(stddev=weights_initializer_stddev),\n",
    "            kernel_regularizer= tf.contrib.layers.l2_regularizer(weights_regularized_l2))\n",
    "    \n",
    "    skip_conv_4 = tf.layers.conv2d(layer_4, num_classes, 1, padding='same',\n",
    "            kernel_initializer = tf.random_normal_initializer(stddev=weights_initializer_stddev),\n",
    "            kernel_regularizer= tf.contrib.layers.l2_regularizer(weights_regularized_l2))\n",
    "    \n",
    "    #Layer 7 isn't skipped, it's passed right to transpose    \n",
    "    fully_connected_convs = tf.layers.conv2d(layer_7, num_classes, 1, padding='same',\n",
    "            kernel_initializer = tf.random_normal_initializer(stddev=weights_initializer_stddev),\n",
    "            kernel_regularizer= tf.contrib.layers.l2_regularizer(weights_regularized_l2))\n",
    "    \n",
    "    #From layer 7 we need to transpose up\n",
    "    transpose_1 = tf.layers.conv2d_transpose(fully_connected_convs, num_classes, 4, 2, padding='same',\n",
    "            kernel_initializer = tf.random_normal_initializer(stddev=weights_initializer_stddev),\n",
    "            kernel_regularizer= tf.contrib.layers.l2_regularizer(weights_regularized_l2))\n",
    "    \n",
    "    # Add the skip layer from layer 4\n",
    "    skip_1 = tf.add(transpose_1, skip_conv_4)\n",
    "    \n",
    "    #Tranpose up from resultant layer\n",
    "    transpose_2 = tf.layers.conv2d_transpose(skip_1, num_classes, 4, 2, padding='same',\n",
    "            kernel_initializer = tf.random_normal_initializer(stddev=weights_initializer_stddev),\n",
    "            kernel_regularizer= tf.contrib.layers.l2_regularizer(weights_regularized_l2))\n",
    "    \n",
    "    #Create skip layer from layer 3\n",
    "    skip_2 = tf.add(skip_conv_3, transpose_2)\n",
    "    \n",
    "    #Final output layer\n",
    "    output_layer = tf.layers.conv2d_transpose(skip_2, num_classes, 16, 8, padding='same',\n",
    "            kernel_initializer = tf.random_normal_initializer(stddev=weights_initializer_stddev),\n",
    "            kernel_regularizer= tf.contrib.layers.l2_regularizer(weights_regularized_l2),\n",
    "            activation=tf.sigmoid)\n",
    "    \n",
    "    return output_layer"
   ]
  },
  {
   "cell_type": "code",
   "execution_count": 11,
   "metadata": {},
   "outputs": [],
   "source": [
    "def get_logits(label, output_layer):\n",
    "    #Create the optimzer\n",
    "#     logits = tf.reshape(output_layer, (-1, num_classes))\n",
    "#     correct_label = tf.reshape(label, (-1, num_classes))\n",
    "#     \n",
    "#     return logits, correct_label\n",
    "    return output_layer, label"
   ]
  },
  {
   "cell_type": "code",
   "execution_count": 12,
   "metadata": {},
   "outputs": [],
   "source": [
    "def get_loss(logits, correct_labels):\n",
    "    cross_entropy_loss = tf.reduce_mean(tf.nn.softmax_cross_entropy_with_logits(logits=logits, labels=correct_labels))\n",
    "    optimizer= tf.train.AdamOptimizer(learning_rate=learning_rate)\n",
    "    train_op = optimizer.minimize(cross_entropy_loss)\n",
    "    return cross_entropy_loss, optimizer, train_op"
   ]
  },
  {
   "cell_type": "code",
   "execution_count": 29,
   "metadata": {},
   "outputs": [],
   "source": [
    "epochs = 3\n",
    "batch_size = 10\n",
    "keep_probability = 0.5 \n",
    "learning_rate_alpha = 0.1"
   ]
  },
  {
   "cell_type": "code",
   "execution_count": 30,
   "metadata": {},
   "outputs": [],
   "source": [
    "def train(sess, input_layer, label, keep_prob, learning_rate):\n",
    "    \n",
    "    saver = tf.train.Saver()\n",
    "    \n",
    "    sess.run(tf.global_variables_initializer())\n",
    "    \n",
    "    print(\"Graph has been built - launching training\")\n",
    "    print(\"====== :-) ======\")\n",
    "    print()\n",
    "    \n",
    "    for epoch in range(epochs):\n",
    "        print(\"Launching Epoch {}\".format(epoch))\n",
    "        loss_log = []\n",
    "        batch_count = 0\n",
    "        \n",
    "        #get the images\n",
    "        for image, truth in get_training_data(batch_size):\n",
    "            batch_count += 1\n",
    "            _, loss = sess.run(\n",
    "                    [train_op, cross_entropy_loss],\n",
    "                    feed_dict = {\n",
    "                        input_layer: image,\n",
    "                        label: truth,\n",
    "                        keep_prob: keep_probability,\n",
    "                        learning_rate: learning_rate_alpha\n",
    "                    }\n",
    "                )\n",
    "            loss_log.append('{:3f}'.format(loss))\n",
    "            if(batch_count % 10 == 0):\n",
    "                print(\"Batch {} - loss of {}\".format(batch_count, loss))\n",
    "        print(\"Training for epoch finished - \", loss_log[-1])\n",
    "        print()\n",
    "    print(\"Training finished\")"
   ]
  },
  {
   "cell_type": "code",
   "execution_count": 31,
   "metadata": {},
   "outputs": [],
   "source": [
    "def execute_on_image(sess, logits, input_layer, label, keep_prob, learning_rate):\n",
    "    sess.run(tf.global_variables_initializer())\n",
    "\n",
    "    chosen_image = \"165\"\n",
    "    image_file = \"./data/Train/CameraRGB/{}.png\".format(chosen_image)\n",
    "    truth_file = \"./data/Train/CameraSeg/{}.png\".format(chosen_image)\n",
    "    \n",
    "    image = cv2.imread(image_file)\n",
    "    image = cv2.resize(image, image_shape)\n",
    "    \n",
    "    truth = cv2.imread(truth_file)\n",
    "    truth = cv2.cvtColor(truth, cv2.COLOR_BGR2RGB)\n",
    "    truth = cv2.resize(truth, image_shape)\n",
    "    truth = imageToTruth(truth)\n",
    "    \n",
    "    print(\"image shape\", image.shape)\n",
    "    print(\"truth shape\", np.shape(truth))\n",
    "    \n",
    "    softmax = tf.nn.softmax_cross_entropy_with_logits(logits=logits, labels=correct_labels)\n",
    "    cross_entropy_loss = tf.reduce_mean(softmax)\n",
    "    \n",
    "    return sess.run([output_layer, softmax, cross_entropy_loss], feed_dict={\n",
    "            input_layer: np.array([image]),\n",
    "            label: np.array([truth]),\n",
    "            keep_prob: keep_probability,\n",
    "            learning_rate: learning_rate_alpha\n",
    "        })"
   ]
  },
  {
   "cell_type": "code",
   "execution_count": 32,
   "metadata": {},
   "outputs": [],
   "source": [
    "output_test = None\n",
    "loss = None\n",
    "cross_entropy = None"
   ]
  },
  {
   "cell_type": "code",
   "execution_count": 33,
   "metadata": {
    "scrolled": true
   },
   "outputs": [
    {
     "name": "stdout",
     "output_type": "stream",
     "text": [
      "INFO:tensorflow:Restoring parameters from b'./vgg/variables/variables'\n",
      "Graph has been built - launching training\n",
      "====== :-) ======\n",
      "\n",
      "Launching Epoch 0\n",
      "Batch 10 - loss of 2.6357970237731934\n",
      "Batch 20 - loss of 2.6406912803649902\n",
      "Batch 30 - loss of 2.6381940841674805\n",
      "Batch 40 - loss of 2.638031244277954\n",
      "Batch 50 - loss of 2.633577585220337\n",
      "Batch 60 - loss of 2.6368446350097656\n",
      "Batch 70 - loss of 2.634695053100586\n",
      "Batch 80 - loss of 2.639610767364502\n",
      "Batch 90 - loss of 2.6415321826934814\n",
      "Batch 100 - loss of 2.6375749111175537\n",
      "Training for epoch finished -  2.637575\n",
      "\n",
      "Launching Epoch 1\n",
      "Batch 10 - loss of 2.6357972621917725\n",
      "Batch 20 - loss of 2.6406912803649902\n",
      "Batch 30 - loss of 2.6381940841674805\n",
      "Batch 40 - loss of 2.638031244277954\n",
      "Batch 50 - loss of 2.633577585220337\n",
      "Batch 60 - loss of 2.6368448734283447\n",
      "Batch 70 - loss of 2.634695053100586\n",
      "Batch 80 - loss of 2.639610528945923\n",
      "Batch 90 - loss of 2.6415324211120605\n",
      "Batch 100 - loss of 2.6375749111175537\n",
      "Training for epoch finished -  2.637575\n",
      "\n",
      "Launching Epoch 2\n",
      "Batch 10 - loss of 2.6357970237731934\n",
      "Batch 20 - loss of 2.640690803527832\n",
      "Batch 30 - loss of 2.6381940841674805\n",
      "Batch 40 - loss of 2.638031244277954\n"
     ]
    },
    {
     "ename": "KeyboardInterrupt",
     "evalue": "",
     "output_type": "error",
     "traceback": [
      "\u001b[0;31m---------------------------------------------------------------------------\u001b[0m",
      "\u001b[0;31mKeyboardInterrupt\u001b[0m                         Traceback (most recent call last)",
      "\u001b[0;32m<ipython-input-33-851ed5bda8aa>\u001b[0m in \u001b[0;36m<module>\u001b[0;34m()\u001b[0m\n\u001b[1;32m     12\u001b[0m \u001b[0;34m\u001b[0m\u001b[0m\n\u001b[1;32m     13\u001b[0m     \u001b[0;31m#and now, training!\u001b[0m\u001b[0;34m\u001b[0m\u001b[0;34m\u001b[0m\u001b[0m\n\u001b[0;32m---> 14\u001b[0;31m     \u001b[0mtrain\u001b[0m\u001b[0;34m(\u001b[0m\u001b[0msess\u001b[0m\u001b[0;34m,\u001b[0m \u001b[0minput_layer\u001b[0m\u001b[0;34m,\u001b[0m \u001b[0mlabel\u001b[0m\u001b[0;34m,\u001b[0m \u001b[0mkeep_prob\u001b[0m\u001b[0;34m,\u001b[0m \u001b[0mlearning_rate\u001b[0m\u001b[0;34m)\u001b[0m\u001b[0;34m\u001b[0m\u001b[0m\n\u001b[0m\u001b[1;32m     15\u001b[0m \u001b[0;34m\u001b[0m\u001b[0m\n\u001b[1;32m     16\u001b[0m     \u001b[0;31m#execute graph on a singular image\u001b[0m\u001b[0;34m\u001b[0m\u001b[0;34m\u001b[0m\u001b[0m\n",
      "\u001b[0;32m<ipython-input-30-e0be070d9c9c>\u001b[0m in \u001b[0;36mtrain\u001b[0;34m(sess, input_layer, label, keep_prob, learning_rate)\u001b[0m\n\u001b[1;32m     15\u001b[0m \u001b[0;34m\u001b[0m\u001b[0m\n\u001b[1;32m     16\u001b[0m         \u001b[0;31m#get the images\u001b[0m\u001b[0;34m\u001b[0m\u001b[0;34m\u001b[0m\u001b[0m\n\u001b[0;32m---> 17\u001b[0;31m         \u001b[0;32mfor\u001b[0m \u001b[0mimage\u001b[0m\u001b[0;34m,\u001b[0m \u001b[0mtruth\u001b[0m \u001b[0;32min\u001b[0m \u001b[0mget_training_data\u001b[0m\u001b[0;34m(\u001b[0m\u001b[0mbatch_size\u001b[0m\u001b[0;34m)\u001b[0m\u001b[0;34m:\u001b[0m\u001b[0;34m\u001b[0m\u001b[0m\n\u001b[0m\u001b[1;32m     18\u001b[0m             \u001b[0mbatch_count\u001b[0m \u001b[0;34m+=\u001b[0m \u001b[0;36m1\u001b[0m\u001b[0;34m\u001b[0m\u001b[0m\n\u001b[1;32m     19\u001b[0m             _, loss = sess.run(\n",
      "\u001b[0;32m<ipython-input-7-3ec804224b7a>\u001b[0m in \u001b[0;36mget_training_data\u001b[0;34m(batch_size)\u001b[0m\n\u001b[1;32m     28\u001b[0m             \u001b[0mmaps\u001b[0m\u001b[0;34m.\u001b[0m\u001b[0mappend\u001b[0m\u001b[0;34m(\u001b[0m\u001b[0mmap_image\u001b[0m\u001b[0;34m)\u001b[0m\u001b[0;34m\u001b[0m\u001b[0m\n\u001b[1;32m     29\u001b[0m \u001b[0;34m\u001b[0m\u001b[0m\n\u001b[0;32m---> 30\u001b[0;31m         \u001b[0;32myield\u001b[0m \u001b[0mnp\u001b[0m\u001b[0;34m.\u001b[0m\u001b[0marray\u001b[0m\u001b[0;34m(\u001b[0m\u001b[0mimages\u001b[0m\u001b[0;34m)\u001b[0m\u001b[0;34m,\u001b[0m \u001b[0mnp\u001b[0m\u001b[0;34m.\u001b[0m\u001b[0marray\u001b[0m\u001b[0;34m(\u001b[0m\u001b[0mmaps\u001b[0m\u001b[0;34m)\u001b[0m\u001b[0;34m\u001b[0m\u001b[0m\n\u001b[0m\u001b[1;32m     31\u001b[0m \u001b[0;34m\u001b[0m\u001b[0m\n\u001b[1;32m     32\u001b[0m \u001b[0;34m\u001b[0m\u001b[0m\n",
      "\u001b[0;31mKeyboardInterrupt\u001b[0m: "
     ]
    }
   ],
   "source": [
    "tf.reset_default_graph()\n",
    "with tf.Session() as sess:\n",
    "    label, learning_rate = get_placeholders()\n",
    "    \n",
    "    graph, input_layer, keep_prob, layer_3, layer_4, layer_7 = load_vgg()\n",
    "    \n",
    "    output_layer = vgg_fcn(graph, input_layer, keep_prob, layer_3, layer_4, layer_7)\n",
    "\n",
    "    logits, correct_labels = get_logits(label, output_layer)\n",
    "    \n",
    "    cross_entropy_loss, optimizer, train_op = get_loss(logits, correct_labels)\n",
    "\n",
    "    #and now, training!\n",
    "    train(sess, input_layer, label, keep_prob, learning_rate)\n",
    "    \n",
    "    #execute graph on a singular image\n",
    "#     output_test, loss, cross_entropy = execute_on_image(sess, logits, input_layer, label, keep_prob, learning_rate)\n",
    "    "
   ]
  },
  {
   "cell_type": "code",
   "execution_count": 27,
   "metadata": {},
   "outputs": [
    {
     "data": {
      "text/plain": [
       "(576, 160, 13)"
      ]
     },
     "execution_count": 27,
     "metadata": {},
     "output_type": "execute_result"
    }
   ],
   "source": [
    "output_test[0].shape"
   ]
  },
  {
   "cell_type": "code",
   "execution_count": 28,
   "metadata": {},
   "outputs": [
    {
     "data": {
      "text/plain": [
       "array([[[2.3743062, 2.1987348, 3.1291246, ..., 2.420776 , 2.4560966,\n",
       "         2.800263 ],\n",
       "        [3.119772 , 2.1103735, 3.2093792, ..., 2.9014883, 2.881716 ,\n",
       "         2.1775074],\n",
       "        [2.489198 , 2.1946561, 2.314483 , ..., 3.0509048, 2.96563  ,\n",
       "         2.5517757],\n",
       "        ...,\n",
       "        [2.183793 , 2.45578  , 2.9735231, ..., 3.0132248, 3.173509 ,\n",
       "         2.7209349],\n",
       "        [2.135826 , 2.231505 , 2.1744595, ..., 2.223272 , 2.5153522,\n",
       "         3.0756202],\n",
       "        [2.4919426, 3.1813722, 2.435748 , ..., 2.839909 , 2.3955507,\n",
       "         2.9025197]]], dtype=float32)"
      ]
     },
     "execution_count": 28,
     "metadata": {},
     "output_type": "execute_result"
    }
   ],
   "source": [
    "loss"
   ]
  },
  {
   "cell_type": "code",
   "execution_count": null,
   "metadata": {},
   "outputs": [],
   "source": []
  }
 ],
 "metadata": {
  "kernelspec": {
   "display_name": "Python 3",
   "language": "python",
   "name": "python3"
  },
  "language_info": {
   "codemirror_mode": {
    "name": "ipython",
    "version": 3
   },
   "file_extension": ".py",
   "mimetype": "text/x-python",
   "name": "python",
   "nbconvert_exporter": "python",
   "pygments_lexer": "ipython3",
   "version": "3.6.4"
  }
 },
 "nbformat": 4,
 "nbformat_minor": 2
}
